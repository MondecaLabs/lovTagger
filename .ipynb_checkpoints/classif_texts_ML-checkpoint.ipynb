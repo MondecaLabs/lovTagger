{
 "cells": [
  {
   "cell_type": "code",
   "execution_count": 27,
   "metadata": {},
   "outputs": [
    {
     "name": "stderr",
     "output_type": "stream",
     "text": [
      "[nltk_data] Downloading package stopwords to\n",
      "[nltk_data]     /home/mondeca/nltk_data...\n",
      "[nltk_data]   Package stopwords is already up-to-date!\n"
     ]
    }
   ],
   "source": [
    "import pandas as pd\n",
    "import numpy as np\n",
    "import json\n",
    "import matplotlib.pyplot as plt\n",
    "import base64\n",
    "import string\n",
    "import re\n",
    "import warnings\n",
    "import pickle\n",
    "\n",
    "import nltk\n",
    "nltk.download('stopwords')\n",
    "from nltk.corpus import stopwords\n",
    "\n",
    "from sklearn.feature_extraction.text import CountVectorizer, TfidfTransformer, TfidfVectorizer, HashingVectorizer\n",
    "from sklearn.naive_bayes import MultinomialNB\n",
    "from sklearn.pipeline import Pipeline, FeatureUnion\n",
    "from sklearn.linear_model import SGDClassifier, LogisticRegression\n",
    "from sklearn.preprocessing import StandardScaler, MultiLabelBinarizer\n",
    "from sklearn.decomposition import TruncatedSVD\n",
    "from sklearn.base import BaseEstimator, TransformerMixin\n",
    "from sklearn.model_selection import KFold, cross_val_score, cross_validate, cross_val_predict\n",
    "from sklearn.naive_bayes import GaussianNB\n",
    "from sklearn.neural_network import MLPClassifier    \n",
    "from sklearn.ensemble import BaggingClassifier, AdaBoostClassifier, RandomForestClassifier\n",
    "from sklearn.neighbors import KNeighborsClassifier\n",
    "from sklearn.tree import DecisionTreeClassifier\n",
    "from sklearn.svm import SVC, LinearSVC\n",
    "from sklearn.metrics import f1_score, accuracy_score, recall_score, cohen_kappa_score, classification_report , precision_score\n",
    "from sklearn.model_selection import train_test_split, GridSearchCV\n",
    "from sklearn.utils.class_weight import compute_class_weight\n",
    "from sklearn.externals import joblib\n",
    "from sklearn.multiclass import OneVsRestClassifier\n",
    "\n",
    "import matplotlib.pyplot as plt\n",
    "\n",
    "%matplotlib inline"
   ]
  },
  {
   "cell_type": "code",
   "execution_count": 2,
   "metadata": {},
   "outputs": [],
   "source": [
    "# Load data\n",
    "with open('DATA.pkl', 'rb') as handle:\n",
    "    X, Y, vocabs = pickle.load(handle)\n",
    "    \n",
    "X = np.array(X)"
   ]
  },
  {
   "cell_type": "code",
   "execution_count": 368,
   "metadata": {},
   "outputs": [
    {
     "data": {
      "text/plain": [
       "'Legal Agent. The AKT Reference Ontology has been designed to support the AKT-2 demonstrator (\"AKTive Portal\"), and subsequent activities. The ontology, designed by the AKT-2 group and codified by Enrico Motta, extends Version 1. we have decided that a publication reference is an intangible, abstract information. medium. SME are important, so we define a class to represent them explicitly. In some case we might not know or we do not want to bother specifying excatly whether something is a small-organization or a medium-organization. Hence, we can just say \\'x is a SME\\' without going into further detail. Some agents have legal status: definitely organizations and people, anybody else?. People and in general even organizations and organization units may have research interests.  This relation shoudl be used to specify them. Generic Agent. This notion comes from Cyc.  It is useful to group together all information bearing entities, including video, audio and documents. An information bearing object may have an author (a generic agent) and may be owned by a legal agent. It is a tangible object. An organization which has a political connotation. An organization with more than 250 employees. large. A publication which contains items which cane be themselves referenced through a publication reference.  Composite publications include newspapers, magazines and journals. A book which is a collection of articles is a composite publication, a monograph is not. Organization. This is a generic notion, an agent can be an organization, a person an animal, a software agent, etc. An organization with no more than 10 employees.  It also has to be independent, i.e., less than 25% owned by one enterprise (or jointly by several enterprises) falling outside the definition of micro-sized enterprise. A generalized transfer in which information is passed from main agent to one or more recipient agents.  Examples include giving a tutorial. A generic class for addresses, whether email or postal. We see an address as abstract information and therefore it is an intangible thing. By technology we mean engineered applications of science. I guess we are probably confining ourselves to tangible things but as I am not sure I will use thing as the direct superclass - e.g., an algorithm is an intangible thing, but it could be seen as a technology, if we give a broad interpretation of the term. A web browser is not a web-based system!. Whether the software is released, alpha or beta. An organization is a type of legal agent. A degree is type of award. has web address. has email address. This is a generic class to catch all sorts of borderline and metaphorical ways to carry things from A to B. Any kind of recorded audio, which is tangible.  This also includes a audio file on a machine. We use EU guidelines to distinguish between different organization sizes. A person which has an affiliation with some organization. For instance employees are affiliated to the organization they work for, students to the institution where they are studying, etc. A person can have multiple affiliations, which means that there is no constraint relating the values of slot has-affiliation-to-unit to the values of slot has-affiliation. What is being transferred. Merrian-Webster has a good set of definitions for a method. They say it is \\'a systematic procedure, technique, or mode of inquiry employed by or proper to a particular discipline or art;  a systematic plan followed in presenting material for instruction; a way, technique, or process of or for doing something; a body of skills or techniques\\'. This is very much also what we mean by method. A generic class to specify generic areas for research or business initiatives. For instance, the area in which a project is situated. A system which is accessible through the web. This is a minimalist definition of class event.  We start with the very basic and we will then add slots as we specialise this definition for specific classes of events. The fillers of slots has-other-agents-involved and has-main-agent should not intersect. Other agents involved in the event. This is an event in which the main agent (plus maybe others) goes from some place to another. An organization with over 10000 employees. HPKB says that genders are intangible..Uhm... The agents causing the event to happen, if they are known. This comes from the ontolingua library. A periodical-publication is published regularly, such as once every week.  Strictly speaking, the noun \\'periodical\\' is used by librarians to refer to things published at intervals of greater than a day.  We use the phase periodical-publication to include newspapers and other daily publications, since they share many bibliographic features. The periodicity indicates how often the publication comes out. Note that this is a duration, rather than a time interval. A time interval indicates a specific time interval on the time continuum, so we need to model periodicity as a time quantity. A publication is something which has one or more publication references. A publication can be both an article in a journal or a journal itself. The distinction between publication and publication-reference makes it possible to distinguish between multiple occurrences of the sam publication, for instance in different media. Something tangible designed to transport people, animals, objects from A to B. For instance a bycicle, a car, a boat, etc. An event in which the main agent transfers something (the thing-acted-on, tangible or intangible) to one or more recipient agents. Note that we do not say anything about whether the original agent still retain the thing-acted-on.  In some cases this is clearly true (\\'I pass my wisdom on to my daughter\\'), in other cases it is not (I give you my wallet). A geopolitical entity is a geographical area which is associated with some sort of political structure. For instance, Russia, Italy, The-city-of-Messina, etc. A geopolitical entity can be also seen as an agent - e.g., France declared war to Spain. Organization Size. micro. Legal agents can be either organizations or people. An awarding body is normally an organization, an individual, or a bunch of people. a generalized transfer in which information is passed from main agent to one or more recipient agents.  examples include giving a tutorial. An award is an intangible thing, even if the piece of paper which is often associated with an award is tangible.  What about the virtual piece of paper in the virtual degree ceremony?  I guess that ought to be an intangible. small. AKT Reference Ontology (Portal Ontology). An organization with no more than 50 employees.  It also has to be independent, i.e., less than 25% owned by one enterprise (or jointly by several enterprises) falling outside the definition of small-sized enterprise. Finally, either the turnover total must be less than 7M Euros or the balance sheet total must be less than 5M Euros. An organization with no more than 250 employees.  It also has to be independent, i.e., less than 25% owned by one enterprise (or jointly by several enterprises) falling outside the definition of medium-sized enterprise. Finally, either the turnover total must be less than 40M Euros or the balance sheet total must be less than 27M Euros. very large. The agents which receive the thing-acted-on. Political Organization. A meeting type of event. Note that both attendee and organizer have multiple cardinality. This used to be called periodical publication.  However, many periodicals do not appear at fixed intervals, which is why librarians refer to them as serials. So, we now use the concept of serial publication and the has-periodicity slot has been removed. Small or Medium-sized Organization. An organization may have a number of units. Units may themselves have sub-units. The location at which an event takes place. Modified to allow addresses to be given as strings, with no structure. Any kind of recorded video, which is tangible.  This also includes a mpeg file on a machine. When something is produced. Information in general, independent of an object in which it is encoded. Whatever is transferred in an information-transfer event. It is clearly an intangible thing. A generic class for locations.  It includes both real and fantastic places. \\'Real\\' geographical regions. A partnership is not necessarily a company, e.g. a consultancy firm is not a company. It is sufficient that somebody in unit ?u works in project ?p. '"
      ]
     },
     "execution_count": 368,
     "metadata": {},
     "output_type": "execute_result"
    }
   ],
   "source": [
    "X[12]"
   ]
  },
  {
   "cell_type": "code",
   "execution_count": 4,
   "metadata": {},
   "outputs": [
    {
     "name": "stdout",
     "output_type": "stream",
     "text": [
      "656 656 656\n"
     ]
    }
   ],
   "source": [
    "print(len(X), len(Y), len(vocabs))"
   ]
  },
  {
   "cell_type": "code",
   "execution_count": 5,
   "metadata": {},
   "outputs": [],
   "source": [
    "import itertools\n",
    "from collections import Counter\n",
    "\n",
    "totals = Counter(i for i in list(itertools.chain.from_iterable(Y)))\n",
    "distrib = dict(totals)\n",
    "#distrib = sorted(distrib.items(), key=lambda x: x[1])"
   ]
  },
  {
   "cell_type": "code",
   "execution_count": 6,
   "metadata": {},
   "outputs": [],
   "source": [
    "all_tags_len = np.sum(list(distrib.values()))\n",
    "distrib_freq = {key:val/all_tags_len for key,val in distrib.items()}"
   ]
  },
  {
   "cell_type": "code",
   "execution_count": 7,
   "metadata": {},
   "outputs": [
    {
     "data": {
      "text/plain": [
       "1"
      ]
     },
     "execution_count": 7,
     "metadata": {},
     "output_type": "execute_result"
    },
    {
     "data": {
      "image/png": "[encoded data removed]",
      "text/plain": [
       "<Figure size 432x288 with 1 Axes>"
      ]
     },
     "metadata": {
      "needs_background": "light"
     },
     "output_type": "display_data"
    }
   ],
   "source": [
    "plt.bar(distrib.keys(), distrib.values())\n",
    "plt.xticks(rotation='vertical')\n",
    "1"
   ]
  },
  {
   "cell_type": "code",
   "execution_count": 8,
   "metadata": {},
   "outputs": [],
   "source": [
    "# Return the number of uppercase in string\n",
    "def num_uppercase(string):\n",
    "    count = 0\n",
    "    for l in string:\n",
    "        if l.isupper():\n",
    "            count += 1\n",
    "    return count\n",
    "\n",
    "# From a list of words, split the words with more than one uppercase\n",
    "def split_uppercases(words):\n",
    "    words_proc = []\n",
    "    for word in words:\n",
    "        if num_uppercase(word) >= 1 and not(word.isupper()):\n",
    "            splitted_words = re.findall('[A-Za-z][a-z]*', word)\n",
    "            for w in splitted_words:\n",
    "                words_proc.append(w.lower())\n",
    "        else:\n",
    "            words_proc.append(word.lower())\n",
    "    return words_proc\n",
    "\n",
    "# Tokenizer\n",
    "def Tokenizer(str_input):\n",
    "    words = re.sub(r\"[^A-Za-z0-9\\-]\", \" \", str_input).lower().split()\n",
    "    words = [word for word in words if word not in stopwords.words('english')]\n",
    "    return words\n",
    "\n",
    "# Tokenizer : Utilise stems of words\n",
    "def Tokenizer_lemm(str_input):\n",
    "    words = re.sub(r\"[^A-Za-z0-9\\-]\", \" \", str_input).lower().split()\n",
    "    words = [word for word in words if word not in stopwords.words('english')]\n",
    "    porter_stemmer=nltk.PorterStemmer()\n",
    "    words = [porter_stemmer.stem(word) for word in words]\n",
    "    return words\n",
    "\n",
    "# new Tokenizer : split the strings in the form \"jointAnnual\" with a space in the text\n",
    "def newTokenizer(str_input):\n",
    "    words = re.sub(r\"[^A-Za-z0-9\\-]\", \" \", str_input).split()\n",
    "    words = split_uppercases(words)\n",
    "    #porter_stemmer=nltk.PorterStemmer()\n",
    "    words = [word for word in words if word not in stopwords.words('english')]\n",
    "    #words = [porter_stemmer.stem(word) for word in words]\n",
    "    return words"
   ]
  },
  {
   "cell_type": "code",
   "execution_count": 9,
   "metadata": {},
   "outputs": [
    {
     "data": {
      "text/plain": [
       "[('description', 'description'),\n",
       " ('knowledgegrouping', 'knowledge'),\n",
       " ('organization', 'grouping'),\n",
       " ('division', 'organization'),\n",
       " ('organizationalunit', 'division'),\n",
       " ('teaches', 'organizational'),\n",
       " ('institution', 'unit'),\n",
       " ('html', 'teaches'),\n",
       " ('subject', 'institution'),\n",
       " ('knowledgegrouping', 'html')]"
      ]
     },
     "execution_count": 9,
     "metadata": {},
     "output_type": "execute_result"
    }
   ],
   "source": [
    "# Compare both tokenizer\n",
    "[(x,y) for x,y in zip(Tokenizer(X[10]), newTokenizer(X[10]))][:10]"
   ]
  },
  {
   "cell_type": "code",
   "execution_count": 10,
   "metadata": {},
   "outputs": [
    {
     "data": {
      "text/plain": [
       "CountVectorizer(analyzer='word', binary=False, decode_error='strict',\n",
       "        dtype=<class 'numpy.int64'>, encoding='utf-8', input='content',\n",
       "        lowercase=True, max_df=0.25, max_features=None, min_df=0.0025,\n",
       "        ngram_range=(1, 3), preprocessor=None, stop_words=None,\n",
       "        strip_accents=None, token_pattern='(?u)\\\\b\\\\w\\\\w+\\\\b',\n",
       "        tokenizer=<function Tokenizer at 0x7f1041ff2ae8>, vocabulary=None)"
      ]
     },
     "execution_count": 10,
     "metadata": {},
     "output_type": "execute_result"
    }
   ],
   "source": [
    "# Study the CountVectorizer\n",
    "CV = CountVectorizer(tokenizer=Tokenizer, min_df=.0025, max_df=0.25, ngram_range=(1,3))\n",
    "CV.fit(X)"
   ]
  },
  {
   "cell_type": "code",
   "execution_count": 37,
   "metadata": {},
   "outputs": [],
   "source": [
    "#print(CV.vocabulary_)"
   ]
  },
  {
   "cell_type": "code",
   "execution_count": 10,
   "metadata": {},
   "outputs": [],
   "source": [
    "# Preprocessing pipeline : Vectorizer + tfidf + SVD\n",
    "pipeline1 = Pipeline([\n",
    "            ('tfidf', TfidfVectorizer(tokenizer=Tokenizer_lemm, min_df=.0025, max_df=0.25, ngram_range=(1,3))),\n",
    "            ('svd', TruncatedSVD(algorithm='randomized', n_components=100, random_state=1))])"
   ]
  },
  {
   "cell_type": "code",
   "execution_count": 11,
   "metadata": {},
   "outputs": [],
   "source": [
    "# Set of classifiers which work with multilabels\n",
    "clfs = {\n",
    "'RF': RandomForestClassifier(n_estimators=100, random_state=1, n_jobs=50),\n",
    "'MLP': MLPClassifier(solver='lbfgs',alpha=1e-5,hidden_layer_sizes=(100),random_state=1),\n",
    "'KPPV': KNeighborsClassifier(n_neighbors=7)\n",
    "}\n",
    "\n",
    "# Fonction de test des différents classifieurs\n",
    "def run_classifiers(clfs,X,Y, pipeline):\n",
    "    # Apply processing pipeline\n",
    "    X_proc = pipeline.fit_transform(X)\n",
    "    # Cross Validation\n",
    "    kf = KFold(n_splits=5, shuffle=True, random_state=0)\n",
    "    scoring = ['precision_macro', 'recall_macro', 'f1_macro', 'precision_micro', 'recall_micro']\n",
    "    for i in clfs:\n",
    "        try:\n",
    "            clf = clfs[i]\n",
    "            print(\"\\n\\n======= {0} =======\".format(i))\n",
    "            y_pred = cross_val_predict(clf, X_proc, Y, cv=kf)\n",
    "            print(classification_report(Y, y_pred))            \n",
    "#             scores = cross_validate(clf, X_proc, Y, cv=kf, scoring=scoring)\n",
    "#             print(\"mean execution time : \", np.mean(scores['fit_time'] + scores['score_time']))\n",
    "#             #y_pred = cross_val_predict(clf, X_proc, Y, cv=kf)\n",
    "#             #print(y_pred)\n",
    "#             print(\"mean f1 : \",np.mean(scores['test_f1_macro']))\n",
    "#             print(\"mean precision : \",np.mean(scores['test_precision_macro']))\n",
    "#             print(\"mean recall : \",np.mean(scores['test_recall_macro']))\n",
    "#             print(\"mean precision : \",np.mean(scores['test_precision_micro']))\n",
    "#             print(\"mean recall : \",np.mean(scores['test_recall_micro']))\n",
    "        except Exception as e:\n",
    "            print(e)"
   ]
  },
  {
   "cell_type": "code",
   "execution_count": 12,
   "metadata": {},
   "outputs": [],
   "source": [
    "# Transform multilablels Y in sparse matrix for sklearn\n",
    "mlb = MultiLabelBinarizer(sparse_output=False)\n",
    "Y_mlb = mlb.fit_transform(Y)"
   ]
  },
  {
   "cell_type": "code",
   "execution_count": 12,
   "metadata": {},
   "outputs": [],
   "source": [
    "# Remove the tags with a low frequency inferior of seuil\n",
    "# Some graphs will then not have any tags anymore, these graphs are the removed\n",
    "def remove_low_frequencies(X, Y_mlb, vocabs, seuil = 0.02):\n",
    "    labels_freqs = np.sum(Y_mlb, axis = 0) / np.sum(Y_mlb)\n",
    "    # Keeps only labels with freq > seuil\n",
    "    inds_col = labels_freqs > seuil\n",
    "    Y_filt = Y_mlb * inds_col\n",
    "    \n",
    "    inds_0_col = np.where((Y_filt == 0).all(axis=0))[0]\n",
    "    mask0 = np.ones(Y_filt.shape[1], np.bool)\n",
    "    mask0[inds_0_col] = 0\n",
    "    Y_filt_col = Y_filt[:,mask0]\n",
    "    Y_filt_col.shape\n",
    "    \n",
    "    inds_0 = np.where((Y_filt_col == 0).all(axis=1))[0] # Indices of rows fully equals 0\n",
    "    mask = np.ones(len(Y_filt_col), np.bool)\n",
    "    mask[inds_0] = 0\n",
    "    Y_filt_rows = Y_filt_col[mask,:]\n",
    "    \n",
    "    vocabs_filt = vocabs[mask]\n",
    "    X_filt = X[mask]\n",
    "    Y_filt = Y_filt_rows\n",
    "    \n",
    "    return X_filt, Y_filt, vocabs_filt"
   ]
  },
  {
   "cell_type": "code",
   "execution_count": 22,
   "metadata": {},
   "outputs": [],
   "source": [
    "X_filt, Y_filt, vocabs_filt = remove_low_frequencies(X,Y_mlb, vocabs, seuil = 0.03)"
   ]
  },
  {
   "cell_type": "code",
   "execution_count": 23,
   "metadata": {},
   "outputs": [
    {
     "name": "stdout",
     "output_type": "stream",
     "text": [
      "(424,) (424, 15) (424,)\n"
     ]
    }
   ],
   "source": [
    "print(X_filt.shape, Y_filt.shape, vocabs_filt.shape)"
   ]
  },
  {
   "cell_type": "code",
   "execution_count": 24,
   "metadata": {},
   "outputs": [
    {
     "name": "stdout",
     "output_type": "stream",
     "text": [
      "\n",
      "\n",
      "======= RF =======\n",
      "[Errno 12] Cannot allocate memory\n",
      "\n",
      "\n",
      "======= MLP =======\n",
      "              precision    recall  f1-score   support\n",
      "\n",
      "           0       0.38      0.52      0.44        31\n",
      "           1       0.27      0.28      0.27        36\n",
      "           2       0.20      0.29      0.24        28\n",
      "           3       0.47      0.60      0.53        40\n",
      "           4       0.41      0.42      0.42        33\n",
      "           5       0.48      0.46      0.47        28\n",
      "           6       0.26      0.30      0.28        47\n",
      "           7       0.43      0.40      0.42        50\n",
      "           8       0.30      0.36      0.33        28\n",
      "           9       0.33      0.32      0.33        31\n",
      "          10       0.21      0.22      0.22        27\n",
      "          11       0.21      0.30      0.25        33\n",
      "          12       0.17      0.21      0.19        33\n",
      "          13       0.18      0.22      0.20        36\n",
      "          14       0.19      0.28      0.23        25\n",
      "\n",
      "   micro avg       0.30      0.35      0.32       506\n",
      "   macro avg       0.30      0.35      0.32       506\n",
      "weighted avg       0.31      0.35      0.33       506\n",
      " samples avg       0.28      0.37      0.30       506\n",
      "\n",
      "\n",
      "\n",
      "======= KPPV =======\n",
      "              precision    recall  f1-score   support\n",
      "\n",
      "           0       0.00      0.00      0.00        31\n",
      "           1       0.60      0.08      0.15        36\n",
      "           2       0.46      0.21      0.29        28\n",
      "           3       0.33      0.03      0.05        40\n",
      "           4       0.75      0.09      0.16        33\n",
      "           5       0.56      0.18      0.27        28\n",
      "           6       0.50      0.06      0.11        47\n",
      "           7       0.50      0.06      0.11        50\n",
      "           8       1.00      0.04      0.07        28\n",
      "           9       1.00      0.03      0.06        31\n",
      "          10       0.25      0.04      0.06        27\n",
      "          11       0.00      0.00      0.00        33\n",
      "          12       0.50      0.03      0.06        33\n",
      "          13       1.00      0.11      0.20        36\n",
      "          14       0.50      0.04      0.07        25\n",
      "\n",
      "   micro avg       0.52      0.07      0.12       506\n",
      "   macro avg       0.53      0.07      0.11       506\n",
      "weighted avg       0.53      0.07      0.11       506\n",
      " samples avg       0.07      0.06      0.06       506\n",
      "\n"
     ]
    },
    {
     "name": "stderr",
     "output_type": "stream",
     "text": [
      "/home/mondeca/applications/anaconda3/lib/python3.7/site-packages/sklearn/metrics/classification.py:1143: UndefinedMetricWarning: Precision and F-score are ill-defined and being set to 0.0 in samples with no predicted labels.\n",
      "  'precision', 'predicted', average, warn_for)\n",
      "/home/mondeca/applications/anaconda3/lib/python3.7/site-packages/sklearn/metrics/classification.py:1143: UndefinedMetricWarning: Precision and F-score are ill-defined and being set to 0.0 in labels with no predicted samples.\n",
      "  'precision', 'predicted', average, warn_for)\n",
      "/home/mondeca/applications/anaconda3/lib/python3.7/site-packages/sklearn/metrics/classification.py:1143: UndefinedMetricWarning: Precision and F-score are ill-defined and being set to 0.0 in samples with no predicted labels.\n",
      "  'precision', 'predicted', average, warn_for)\n"
     ]
    }
   ],
   "source": [
    "# With only the most frequent tags\n",
    "run_classifiers(clfs, X_filt, Y_filt, pipeline1)"
   ]
  },
  {
   "cell_type": "code",
   "execution_count": 25,
   "metadata": {},
   "outputs": [
    {
     "name": "stdout",
     "output_type": "stream",
     "text": [
      "\n",
      "\n",
      "======= RF =======\n",
      "[Errno 12] Cannot allocate memory\n",
      "\n",
      "\n",
      "======= MLP =======\n",
      "              precision    recall  f1-score   support\n",
      "\n",
      "           0       0.25      0.26      0.25        31\n",
      "           1       0.31      0.31      0.31        13\n",
      "           2       0.47      0.64      0.55        14\n",
      "           3       0.00      0.00      0.00         2\n",
      "           4       0.25      0.17      0.20        36\n",
      "           5       0.15      0.22      0.18         9\n",
      "           6       0.31      0.29      0.30        28\n",
      "           7       0.12      0.12      0.12        16\n",
      "           8       0.55      0.43      0.48        14\n",
      "           9       0.00      0.00      0.00         5\n",
      "          10       1.00      0.83      0.91         6\n",
      "          11       0.10      0.11      0.10        19\n",
      "          12       0.40      0.47      0.44        40\n",
      "          13       0.50      0.47      0.49        19\n",
      "          14       0.19      0.24      0.21        17\n",
      "          15       0.43      0.38      0.40         8\n",
      "          16       0.50      0.17      0.25         6\n",
      "          17       0.34      0.33      0.34        33\n",
      "          18       0.47      0.50      0.48        28\n",
      "          19       0.17      0.19      0.18        47\n",
      "          20       0.43      0.48      0.45        50\n",
      "          21       0.33      0.25      0.29        16\n",
      "          22       0.12      0.20      0.15         5\n",
      "          23       0.58      0.64      0.61        11\n",
      "          24       0.00      0.00      0.00         2\n",
      "          25       0.48      0.46      0.47        28\n",
      "          26       0.17      0.12      0.14         8\n",
      "          27       0.26      0.23      0.24        31\n",
      "          28       0.13      0.11      0.12        27\n",
      "          29       0.00      0.00      0.00         2\n",
      "          30       0.44      0.33      0.38        12\n",
      "          31       0.20      0.20      0.20         5\n",
      "          32       0.62      0.56      0.59         9\n",
      "          33       0.16      0.21      0.18        33\n",
      "          34       0.13      0.15      0.14        33\n",
      "          35       0.19      0.25      0.21        36\n",
      "          36       0.71      0.67      0.69        15\n",
      "          37       0.44      0.37      0.40        19\n",
      "          38       0.80      0.67      0.73         6\n",
      "          39       0.40      0.36      0.38        11\n",
      "          40       0.27      0.32      0.29        25\n",
      "          41       0.17      0.17      0.17        12\n",
      "          42       0.44      0.36      0.40        11\n",
      "\n",
      "   micro avg       0.31      0.32      0.31       798\n",
      "   macro avg       0.33      0.31      0.31       798\n",
      "weighted avg       0.32      0.32      0.31       798\n",
      " samples avg       0.27      0.33      0.28       798\n",
      "\n",
      "\n",
      "\n",
      "======= KPPV =======\n",
      "              precision    recall  f1-score   support\n",
      "\n",
      "           0       0.00      0.00      0.00        31\n",
      "           1       0.00      0.00      0.00        13\n",
      "           2       0.00      0.00      0.00        14\n",
      "           3       0.00      0.00      0.00         2\n",
      "           4       0.00      0.00      0.00        36\n",
      "           5       0.00      0.00      0.00         9\n",
      "           6       0.56      0.18      0.27        28\n",
      "           7       0.00      0.00      0.00        16\n",
      "           8       0.75      0.21      0.33        14\n",
      "           9       0.00      0.00      0.00         5\n",
      "          10       1.00      1.00      1.00         6\n",
      "          11       0.00      0.00      0.00        19\n",
      "          12       1.00      0.03      0.05        40\n",
      "          13       1.00      0.26      0.42        19\n",
      "          14       0.00      0.00      0.00        17\n",
      "          15       0.00      0.00      0.00         8\n",
      "          16       0.00      0.00      0.00         6\n",
      "          17       0.25      0.03      0.05        33\n",
      "          18       0.83      0.18      0.29        28\n",
      "          19       0.50      0.04      0.08        47\n",
      "          20       0.75      0.06      0.11        50\n",
      "          21       0.00      0.00      0.00        16\n",
      "          22       0.00      0.00      0.00         5\n",
      "          23       1.00      0.09      0.17        11\n",
      "          24       0.00      0.00      0.00         2\n",
      "          25       0.50      0.04      0.07        28\n",
      "          26       0.00      0.00      0.00         8\n",
      "          27       0.00      0.00      0.00        31\n",
      "          28       0.00      0.00      0.00        27\n",
      "          29       0.00      0.00      0.00         2\n",
      "          30       1.00      0.17      0.29        12\n",
      "          31       0.00      0.00      0.00         5\n",
      "          32       1.00      0.33      0.50         9\n",
      "          33       0.00      0.00      0.00        33\n",
      "          34       0.00      0.00      0.00        33\n",
      "          35       0.75      0.08      0.15        36\n",
      "          36       1.00      0.47      0.64        15\n",
      "          37       0.00      0.00      0.00        19\n",
      "          38       0.00      0.00      0.00         6\n",
      "          39       1.00      0.18      0.31        11\n",
      "          40       0.75      0.12      0.21        25\n",
      "          41       0.00      0.00      0.00        12\n",
      "          42       0.80      0.36      0.50        11\n",
      "\n",
      "   micro avg       0.63      0.07      0.13       798\n",
      "   macro avg       0.34      0.09      0.13       798\n",
      "weighted avg       0.39      0.07      0.11       798\n",
      " samples avg       0.08      0.08      0.08       798\n",
      "\n"
     ]
    },
    {
     "name": "stderr",
     "output_type": "stream",
     "text": [
      "/home/mondeca/applications/anaconda3/lib/python3.7/site-packages/sklearn/metrics/classification.py:1143: UndefinedMetricWarning: Precision and F-score are ill-defined and being set to 0.0 in labels with no predicted samples.\n",
      "  'precision', 'predicted', average, warn_for)\n",
      "/home/mondeca/applications/anaconda3/lib/python3.7/site-packages/sklearn/metrics/classification.py:1143: UndefinedMetricWarning: Precision and F-score are ill-defined and being set to 0.0 in samples with no predicted labels.\n",
      "  'precision', 'predicted', average, warn_for)\n",
      "/home/mondeca/applications/anaconda3/lib/python3.7/site-packages/sklearn/metrics/classification.py:1143: UndefinedMetricWarning: Precision and F-score are ill-defined and being set to 0.0 in labels with no predicted samples.\n",
      "  'precision', 'predicted', average, warn_for)\n",
      "/home/mondeca/applications/anaconda3/lib/python3.7/site-packages/sklearn/metrics/classification.py:1143: UndefinedMetricWarning: Precision and F-score are ill-defined and being set to 0.0 in samples with no predicted labels.\n",
      "  'precision', 'predicted', average, warn_for)\n"
     ]
    }
   ],
   "source": [
    "# all tags, WITH LEMMATIZER \n",
    "run_classifiers(clfs, X, Y_mlb, pipeline1)"
   ]
  },
  {
   "cell_type": "code",
   "execution_count": 43,
   "metadata": {},
   "outputs": [
    {
     "name": "stdout",
     "output_type": "stream",
     "text": [
      "\n",
      "\n",
      "======= RF =======\n"
     ]
    },
    {
     "name": "stderr",
     "output_type": "stream",
     "text": [
      "/home/mondeca/applications/anaconda3/lib/python3.7/site-packages/sklearn/metrics/classification.py:1143: UndefinedMetricWarning: Precision and F-score are ill-defined and being set to 0.0 in labels with no predicted samples.\n",
      "  'precision', 'predicted', average, warn_for)\n",
      "/home/mondeca/applications/anaconda3/lib/python3.7/site-packages/sklearn/metrics/classification.py:1143: UndefinedMetricWarning: Precision and F-score are ill-defined and being set to 0.0 in samples with no predicted labels.\n",
      "  'precision', 'predicted', average, warn_for)\n"
     ]
    },
    {
     "name": "stdout",
     "output_type": "stream",
     "text": [
      "              precision    recall  f1-score   support\n",
      "\n",
      "           0       0.00      0.00      0.00        31\n",
      "           1       0.00      0.00      0.00        13\n",
      "           2       0.00      0.00      0.00        14\n",
      "           3       0.00      0.00      0.00         2\n",
      "           4       0.00      0.00      0.00        36\n",
      "           5       0.00      0.00      0.00         9\n",
      "           6       0.00      0.00      0.00        28\n",
      "           7       0.00      0.00      0.00        16\n",
      "           8       1.00      0.07      0.13        14\n",
      "           9       0.00      0.00      0.00         5\n",
      "          10       1.00      0.33      0.50         6\n",
      "          11       0.00      0.00      0.00        19\n",
      "          12       1.00      0.10      0.18        40\n",
      "          13       1.00      0.05      0.10        19\n",
      "          14       0.00      0.00      0.00        17\n",
      "          15       0.00      0.00      0.00         8\n",
      "          16       0.00      0.00      0.00         6\n",
      "          17       0.00      0.00      0.00        33\n",
      "          18       0.80      0.14      0.24        28\n",
      "          19       0.00      0.00      0.00        47\n",
      "          20       0.00      0.00      0.00        50\n",
      "          21       0.00      0.00      0.00        16\n",
      "          22       0.00      0.00      0.00         5\n",
      "          23       1.00      0.27      0.43        11\n",
      "          24       0.00      0.00      0.00         2\n",
      "          25       0.00      0.00      0.00        28\n",
      "          26       0.00      0.00      0.00         8\n",
      "          27       0.00      0.00      0.00        31\n",
      "          28       0.00      0.00      0.00        27\n",
      "          29       0.00      0.00      0.00         2\n",
      "          30       0.00      0.00      0.00        12\n",
      "          31       0.00      0.00      0.00         5\n",
      "          32       0.00      0.00      0.00         9\n",
      "          33       0.00      0.00      0.00        33\n",
      "          34       0.00      0.00      0.00        33\n",
      "          35       0.00      0.00      0.00        36\n",
      "          36       1.00      0.33      0.50        15\n",
      "          37       0.00      0.00      0.00        19\n",
      "          38       1.00      0.17      0.29         6\n",
      "          39       1.00      0.09      0.17        11\n",
      "          40       0.00      0.00      0.00        25\n",
      "          41       0.00      0.00      0.00        12\n",
      "          42       0.00      0.00      0.00        11\n",
      "\n",
      "   micro avg       0.61      0.03      0.05       798\n",
      "   macro avg       0.20      0.04      0.06       798\n",
      "weighted avg       0.18      0.03      0.05       798\n",
      " samples avg       0.03      0.03      0.03       798\n",
      "\n",
      "\n",
      "\n",
      "======= MLP =======\n",
      "              precision    recall  f1-score   support\n",
      "\n",
      "           0       0.35      0.35      0.35        31\n",
      "           1       0.18      0.23      0.20        13\n",
      "           2       0.48      0.71      0.57        14\n",
      "           3       0.00      0.00      0.00         2\n",
      "           4       0.16      0.19      0.18        36\n",
      "           5       0.33      0.22      0.27         9\n",
      "           6       0.30      0.29      0.29        28\n",
      "           7       0.20      0.19      0.19        16\n",
      "           8       0.80      0.57      0.67        14\n",
      "           9       0.00      0.00      0.00         5\n",
      "          10       1.00      0.83      0.91         6\n",
      "          11       0.06      0.05      0.05        19\n",
      "          12       0.57      0.65      0.60        40\n",
      "          13       0.45      0.47      0.46        19\n",
      "          14       0.15      0.24      0.18        17\n",
      "          15       0.25      0.25      0.25         8\n",
      "          16       0.14      0.17      0.15         6\n",
      "          17       0.32      0.36      0.34        33\n",
      "          18       0.50      0.43      0.46        28\n",
      "          19       0.21      0.28      0.24        47\n",
      "          20       0.45      0.40      0.43        50\n",
      "          21       0.31      0.25      0.28        16\n",
      "          22       0.00      0.00      0.00         5\n",
      "          23       0.55      0.55      0.55        11\n",
      "          24       0.00      0.00      0.00         2\n",
      "          25       0.47      0.50      0.48        28\n",
      "          26       0.10      0.12      0.11         8\n",
      "          27       0.27      0.26      0.26        31\n",
      "          28       0.25      0.22      0.24        27\n",
      "          29       0.00      0.00      0.00         2\n",
      "          30       0.57      0.33      0.42        12\n",
      "          31       0.00      0.00      0.00         5\n",
      "          32       0.67      0.67      0.67         9\n",
      "          33       0.18      0.21      0.20        33\n",
      "          34       0.16      0.18      0.17        33\n",
      "          35       0.23      0.28      0.25        36\n",
      "          36       0.64      0.60      0.62        15\n",
      "          37       0.41      0.47      0.44        19\n",
      "          38       0.75      0.50      0.60         6\n",
      "          39       0.56      0.45      0.50        11\n",
      "          40       0.21      0.24      0.22        25\n",
      "          41       0.00      0.00      0.00        12\n",
      "          42       0.38      0.27      0.32        11\n",
      "\n",
      "   micro avg       0.32      0.33      0.32       798\n",
      "   macro avg       0.32      0.30      0.31       798\n",
      "weighted avg       0.33      0.33      0.33       798\n",
      " samples avg       0.28      0.35      0.30       798\n",
      "\n",
      "\n",
      "\n",
      "======= KPPV =======\n",
      "              precision    recall  f1-score   support\n",
      "\n",
      "           0       0.00      0.00      0.00        31\n",
      "           1       0.00      0.00      0.00        13\n",
      "           2       0.50      0.07      0.12        14\n",
      "           3       0.00      0.00      0.00         2\n",
      "           4       0.00      0.00      0.00        36\n",
      "           5       0.00      0.00      0.00         9\n",
      "           6       0.50      0.07      0.12        28\n",
      "           7       0.00      0.00      0.00        16\n",
      "           8       0.83      0.36      0.50        14\n",
      "           9       0.00      0.00      0.00         5\n",
      "          10       1.00      0.83      0.91         6\n",
      "          11       0.00      0.00      0.00        19\n",
      "          12       0.33      0.03      0.05        40\n",
      "          13       0.83      0.26      0.40        19\n",
      "          14       0.00      0.00      0.00        17\n",
      "          15       0.00      0.00      0.00         8\n",
      "          16       0.00      0.00      0.00         6\n",
      "          17       0.40      0.06      0.11        33\n",
      "          18       1.00      0.21      0.35        28\n",
      "          19       0.00      0.00      0.00        47\n",
      "          20       0.67      0.04      0.08        50\n",
      "          21       0.00      0.00      0.00        16\n",
      "          22       0.00      0.00      0.00         5\n",
      "          23       0.33      0.09      0.14        11\n",
      "          24       0.00      0.00      0.00         2\n",
      "          25       1.00      0.04      0.07        28\n",
      "          26       0.00      0.00      0.00         8\n",
      "          27       0.00      0.00      0.00        31\n",
      "          28       0.00      0.00      0.00        27\n",
      "          29       0.00      0.00      0.00         2\n",
      "          30       1.00      0.17      0.29        12\n",
      "          31       0.00      0.00      0.00         5\n",
      "          32       1.00      0.33      0.50         9\n",
      "          33       0.60      0.18      0.28        33\n",
      "          34       0.00      0.00      0.00        33\n",
      "          35       1.00      0.06      0.11        36\n",
      "          36       1.00      0.40      0.57        15\n",
      "          37       0.00      0.00      0.00        19\n",
      "          38       0.00      0.00      0.00         6\n",
      "          39       1.00      0.18      0.31        11\n",
      "          40       1.00      0.08      0.15        25\n",
      "          41       0.00      0.00      0.00        12\n",
      "          42       1.00      0.27      0.43        11\n",
      "\n",
      "   micro avg       0.66      0.07      0.13       798\n",
      "   macro avg       0.35      0.09      0.13       798\n",
      "weighted avg       0.39      0.07      0.11       798\n",
      " samples avg       0.09      0.07      0.08       798\n",
      "\n"
     ]
    },
    {
     "name": "stderr",
     "output_type": "stream",
     "text": [
      "/home/mondeca/applications/anaconda3/lib/python3.7/site-packages/sklearn/metrics/classification.py:1143: UndefinedMetricWarning: Precision and F-score are ill-defined and being set to 0.0 in samples with no predicted labels.\n",
      "  'precision', 'predicted', average, warn_for)\n",
      "/home/mondeca/applications/anaconda3/lib/python3.7/site-packages/sklearn/metrics/classification.py:1143: UndefinedMetricWarning: Precision and F-score are ill-defined and being set to 0.0 in labels with no predicted samples.\n",
      "  'precision', 'predicted', average, warn_for)\n",
      "/home/mondeca/applications/anaconda3/lib/python3.7/site-packages/sklearn/metrics/classification.py:1143: UndefinedMetricWarning: Precision and F-score are ill-defined and being set to 0.0 in samples with no predicted labels.\n",
      "  'precision', 'predicted', average, warn_for)\n"
     ]
    }
   ],
   "source": [
    "# Preprocessing pipeline : No lemm\n",
    "pipeline_nolemm = Pipeline([\n",
    "            ('tfidf', TfidfVectorizer(tokenizer=Tokenizer, min_df=.0025, max_df=0.25, ngram_range=(1,3))),\n",
    "            ('svd', TruncatedSVD(algorithm='randomized', n_components=100, random_state=1))])\n",
    "\n",
    "# WITHOUT LEMMATIZER\n",
    "run_classifiers(clfs, X, Y_mlb, pipeline_nolemm)"
   ]
  },
  {
   "cell_type": "code",
   "execution_count": 28,
   "metadata": {},
   "outputs": [],
   "source": [
    "# NEW TOKENIZER (J'ai essayé en modifiant ngram_range=1 mais cela baisse le score f1 de 1%)\n",
    "pipeline2 = Pipeline([\n",
    "            ('tfidf', TfidfVectorizer(tokenizer=newTokenizer, min_df=.0025, max_df=0.25, ngram_range=(1,3))),\n",
    "            ('svd', TruncatedSVD(algorithm='randomized', n_components=150, random_state=1))])"
   ]
  },
  {
   "cell_type": "code",
   "execution_count": 26,
   "metadata": {},
   "outputs": [
    {
     "name": "stdout",
     "output_type": "stream",
     "text": [
      "\n",
      "\n",
      "======= RF =======\n"
     ]
    },
    {
     "name": "stderr",
     "output_type": "stream",
     "text": [
      "/home/mondeca/applications/anaconda3/lib/python3.7/site-packages/sklearn/metrics/classification.py:1143: UndefinedMetricWarning: Precision and F-score are ill-defined and being set to 0.0 in labels with no predicted samples.\n",
      "  'precision', 'predicted', average, warn_for)\n",
      "/home/mondeca/applications/anaconda3/lib/python3.7/site-packages/sklearn/metrics/classification.py:1143: UndefinedMetricWarning: Precision and F-score are ill-defined and being set to 0.0 in samples with no predicted labels.\n",
      "  'precision', 'predicted', average, warn_for)\n"
     ]
    },
    {
     "name": "stdout",
     "output_type": "stream",
     "text": [
      "              precision    recall  f1-score   support\n",
      "\n",
      "           0       0.00      0.00      0.00        31\n",
      "           1       0.00      0.00      0.00        13\n",
      "           2       0.00      0.00      0.00        14\n",
      "           3       0.00      0.00      0.00         2\n",
      "           4       0.00      0.00      0.00        36\n",
      "           5       0.00      0.00      0.00         9\n",
      "           6       0.00      0.00      0.00        28\n",
      "           7       0.00      0.00      0.00        16\n",
      "           8       1.00      0.14      0.25        14\n",
      "           9       0.00      0.00      0.00         5\n",
      "          10       1.00      0.50      0.67         6\n",
      "          11       0.00      0.00      0.00        19\n",
      "          12       1.00      0.10      0.18        40\n",
      "          13       0.00      0.00      0.00        19\n",
      "          14       0.00      0.00      0.00        17\n",
      "          15       0.00      0.00      0.00         8\n",
      "          16       0.00      0.00      0.00         6\n",
      "          17       0.00      0.00      0.00        33\n",
      "          18       1.00      0.14      0.25        28\n",
      "          19       0.00      0.00      0.00        47\n",
      "          20       0.33      0.02      0.04        50\n",
      "          21       0.00      0.00      0.00        16\n",
      "          22       0.00      0.00      0.00         5\n",
      "          23       1.00      0.36      0.53        11\n",
      "          24       0.00      0.00      0.00         2\n",
      "          25       1.00      0.04      0.07        28\n",
      "          26       0.00      0.00      0.00         8\n",
      "          27       0.00      0.00      0.00        31\n",
      "          28       0.00      0.00      0.00        27\n",
      "          29       0.00      0.00      0.00         2\n",
      "          30       0.00      0.00      0.00        12\n",
      "          31       0.00      0.00      0.00         5\n",
      "          32       0.00      0.00      0.00         9\n",
      "          33       0.00      0.00      0.00        33\n",
      "          34       0.50      0.03      0.06        33\n",
      "          35       0.00      0.00      0.00        36\n",
      "          36       1.00      0.47      0.64        15\n",
      "          37       0.00      0.00      0.00        19\n",
      "          38       1.00      0.17      0.29         6\n",
      "          39       0.00      0.00      0.00        11\n",
      "          40       0.00      0.00      0.00        25\n",
      "          41       0.00      0.00      0.00        12\n",
      "          42       0.00      0.00      0.00        11\n",
      "\n",
      "   micro avg       0.70      0.04      0.07       798\n",
      "   macro avg       0.21      0.05      0.07       798\n",
      "weighted avg       0.23      0.04      0.06       798\n",
      " samples avg       0.04      0.04      0.04       798\n",
      "\n",
      "\n",
      "\n",
      "======= MLP =======\n",
      "              precision    recall  f1-score   support\n",
      "\n",
      "           0       0.37      0.45      0.41        31\n",
      "           1       0.33      0.31      0.32        13\n",
      "           2       0.56      0.36      0.43        14\n",
      "           3       0.00      0.00      0.00         2\n",
      "           4       0.24      0.28      0.26        36\n",
      "           5       0.40      0.22      0.29         9\n",
      "           6       0.23      0.29      0.25        28\n",
      "           7       0.11      0.12      0.11        16\n",
      "           8       0.56      0.64      0.60        14\n",
      "           9       0.00      0.00      0.00         5\n",
      "          10       1.00      0.83      0.91         6\n",
      "          11       0.33      0.16      0.21        19\n",
      "          12       0.48      0.50      0.49        40\n",
      "          13       0.56      0.47      0.51        19\n",
      "          14       0.18      0.24      0.21        17\n",
      "          15       0.43      0.38      0.40         8\n",
      "          16       0.50      0.17      0.25         6\n",
      "          17       0.40      0.36      0.38        33\n",
      "          18       0.52      0.46      0.49        28\n",
      "          19       0.24      0.23      0.24        47\n",
      "          20       0.44      0.46      0.45        50\n",
      "          21       0.36      0.31      0.33        16\n",
      "          22       0.25      0.20      0.22         5\n",
      "          23       0.86      0.55      0.67        11\n",
      "          24       0.00      0.00      0.00         2\n",
      "          25       0.52      0.46      0.49        28\n",
      "          26       0.00      0.00      0.00         8\n",
      "          27       0.35      0.26      0.30        31\n",
      "          28       0.11      0.07      0.09        27\n",
      "          29       0.00      0.00      0.00         2\n",
      "          30       0.42      0.42      0.42        12\n",
      "          31       0.40      0.40      0.40         5\n",
      "          32       0.62      0.56      0.59         9\n",
      "          33       0.22      0.24      0.23        33\n",
      "          34       0.15      0.18      0.16        33\n",
      "          35       0.25      0.28      0.26        36\n",
      "          36       0.64      0.60      0.62        15\n",
      "          37       0.40      0.42      0.41        19\n",
      "          38       0.75      0.50      0.60         6\n",
      "          39       0.71      0.45      0.56        11\n",
      "          40       0.21      0.24      0.23        25\n",
      "          41       0.00      0.00      0.00        12\n",
      "          42       0.44      0.36      0.40        11\n",
      "\n",
      "   micro avg       0.34      0.33      0.34       798\n",
      "   macro avg       0.36      0.31      0.33       798\n",
      "weighted avg       0.35      0.33      0.34       798\n",
      " samples avg       0.30      0.35      0.31       798\n",
      "\n",
      "\n",
      "\n",
      "======= KPPV =======\n",
      "              precision    recall  f1-score   support\n",
      "\n",
      "           0       0.00      0.00      0.00        31\n",
      "           1       0.00      0.00      0.00        13\n",
      "           2       0.00      0.00      0.00        14\n",
      "           3       0.00      0.00      0.00         2\n",
      "           4       1.00      0.03      0.05        36\n",
      "           5       0.00      0.00      0.00         9\n",
      "           6       0.50      0.21      0.30        28\n",
      "           7       0.00      0.00      0.00        16\n",
      "           8       1.00      0.21      0.35        14\n",
      "           9       0.00      0.00      0.00         5\n",
      "          10       1.00      0.83      0.91         6\n",
      "          11       0.00      0.00      0.00        19\n",
      "          12       0.00      0.00      0.00        40\n",
      "          13       1.00      0.21      0.35        19\n",
      "          14       0.00      0.00      0.00        17\n",
      "          15       0.00      0.00      0.00         8\n",
      "          16       0.00      0.00      0.00         6\n",
      "          17       0.25      0.03      0.05        33\n",
      "          18       1.00      0.18      0.30        28\n",
      "          19       0.00      0.00      0.00        47\n",
      "          20       0.75      0.06      0.11        50\n",
      "          21       0.00      0.00      0.00        16\n",
      "          22       0.00      0.00      0.00         5\n",
      "          23       0.50      0.09      0.15        11\n",
      "          24       0.00      0.00      0.00         2\n",
      "          25       0.00      0.00      0.00        28\n",
      "          26       0.00      0.00      0.00         8\n",
      "          27       0.00      0.00      0.00        31\n",
      "          28       0.00      0.00      0.00        27\n",
      "          29       0.00      0.00      0.00         2\n",
      "          30       1.00      0.25      0.40        12\n",
      "          31       0.00      0.00      0.00         5\n",
      "          32       1.00      0.11      0.20         9\n",
      "          33       0.62      0.15      0.24        33\n",
      "          34       0.00      0.00      0.00        33\n",
      "          35       0.50      0.03      0.05        36\n",
      "          36       1.00      0.33      0.50        15\n",
      "          37       0.50      0.05      0.10        19\n",
      "          38       0.00      0.00      0.00         6\n",
      "          39       0.00      0.00      0.00        11\n",
      "          40       1.00      0.08      0.15        25\n",
      "          41       0.00      0.00      0.00        12\n",
      "          42       0.75      0.27      0.40        11\n",
      "\n",
      "   micro avg       0.65      0.06      0.11       798\n",
      "   macro avg       0.31      0.07      0.11       798\n",
      "weighted avg       0.36      0.06      0.10       798\n",
      " samples avg       0.07      0.06      0.07       798\n",
      "\n"
     ]
    },
    {
     "name": "stderr",
     "output_type": "stream",
     "text": [
      "/home/mondeca/applications/anaconda3/lib/python3.7/site-packages/sklearn/metrics/classification.py:1143: UndefinedMetricWarning: Precision and F-score are ill-defined and being set to 0.0 in labels with no predicted samples.\n",
      "  'precision', 'predicted', average, warn_for)\n",
      "/home/mondeca/applications/anaconda3/lib/python3.7/site-packages/sklearn/metrics/classification.py:1143: UndefinedMetricWarning: Precision and F-score are ill-defined and being set to 0.0 in samples with no predicted labels.\n",
      "  'precision', 'predicted', average, warn_for)\n",
      "/home/mondeca/applications/anaconda3/lib/python3.7/site-packages/sklearn/metrics/classification.py:1143: UndefinedMetricWarning: Precision and F-score are ill-defined and being set to 0.0 in labels with no predicted samples.\n",
      "  'precision', 'predicted', average, warn_for)\n",
      "/home/mondeca/applications/anaconda3/lib/python3.7/site-packages/sklearn/metrics/classification.py:1143: UndefinedMetricWarning: Precision and F-score are ill-defined and being set to 0.0 in samples with no predicted labels.\n",
      "  'precision', 'predicted', average, warn_for)\n"
     ]
    }
   ],
   "source": [
    "# New tokenizer (split maj words)\n",
    "run_classifiers(clfs, X, Y_mlb, pipeline2)"
   ]
  },
  {
   "cell_type": "code",
   "execution_count": 29,
   "metadata": {},
   "outputs": [
    {
     "name": "stdout",
     "output_type": "stream",
     "text": [
      "\n",
      "\n",
      "======= RF =======\n"
     ]
    },
    {
     "name": "stderr",
     "output_type": "stream",
     "text": [
      "/home/mondeca/applications/anaconda3/lib/python3.7/site-packages/sklearn/multiclass.py:76: UserWarning: Label not 24 is present in all training examples.\n",
      "  str(classes[c]))\n",
      "/home/mondeca/applications/anaconda3/lib/python3.7/site-packages/sklearn/metrics/classification.py:1143: UndefinedMetricWarning: Precision and F-score are ill-defined and being set to 0.0 in labels with no predicted samples.\n",
      "  'precision', 'predicted', average, warn_for)\n",
      "/home/mondeca/applications/anaconda3/lib/python3.7/site-packages/sklearn/metrics/classification.py:1143: UndefinedMetricWarning: Precision and F-score are ill-defined and being set to 0.0 in samples with no predicted labels.\n",
      "  'precision', 'predicted', average, warn_for)\n"
     ]
    },
    {
     "name": "stdout",
     "output_type": "stream",
     "text": [
      "              precision    recall  f1-score   support\n",
      "\n",
      "           0       0.00      0.00      0.00        31\n",
      "           1       0.00      0.00      0.00        13\n",
      "           2       0.00      0.00      0.00        14\n",
      "           3       0.00      0.00      0.00         2\n",
      "           4       0.00      0.00      0.00        36\n",
      "           5       0.00      0.00      0.00         9\n",
      "           6       0.00      0.00      0.00        28\n",
      "           7       0.00      0.00      0.00        16\n",
      "           8       0.50      0.07      0.12        14\n",
      "           9       0.00      0.00      0.00         5\n",
      "          10       1.00      0.33      0.50         6\n",
      "          11       0.00      0.00      0.00        19\n",
      "          12       0.83      0.12      0.22        40\n",
      "          13       1.00      0.05      0.10        19\n",
      "          14       0.00      0.00      0.00        17\n",
      "          15       1.00      0.12      0.22         8\n",
      "          16       0.00      0.00      0.00         6\n",
      "          17       0.00      0.00      0.00        33\n",
      "          18       1.00      0.18      0.30        28\n",
      "          19       0.00      0.00      0.00        47\n",
      "          20       0.33      0.02      0.04        50\n",
      "          21       0.00      0.00      0.00        16\n",
      "          22       0.00      0.00      0.00         5\n",
      "          23       1.00      0.36      0.53        11\n",
      "          24       0.00      0.00      0.00         2\n",
      "          25       1.00      0.07      0.13        28\n",
      "          26       0.00      0.00      0.00         8\n",
      "          27       0.50      0.03      0.06        31\n",
      "          28       0.00      0.00      0.00        27\n",
      "          29       0.00      0.00      0.00         2\n",
      "          30       0.00      0.00      0.00        12\n",
      "          31       0.00      0.00      0.00         5\n",
      "          32       0.00      0.00      0.00         9\n",
      "          33       0.00      0.00      0.00        33\n",
      "          34       0.67      0.06      0.11        33\n",
      "          35       0.00      0.00      0.00        36\n",
      "          36       1.00      0.40      0.57        15\n",
      "          37       0.00      0.00      0.00        19\n",
      "          38       1.00      0.17      0.29         6\n",
      "          39       0.00      0.00      0.00        11\n",
      "          40       0.50      0.04      0.07        25\n",
      "          41       0.00      0.00      0.00        12\n",
      "          42       1.00      0.09      0.17        11\n",
      "\n",
      "   micro avg       0.64      0.04      0.08       798\n",
      "   macro avg       0.29      0.05      0.08       798\n",
      "weighted avg       0.30      0.04      0.07       798\n",
      " samples avg       0.04      0.04      0.04       798\n",
      "\n",
      "\n",
      "\n",
      "======= BAGGING =======\n"
     ]
    },
    {
     "name": "stderr",
     "output_type": "stream",
     "text": [
      "/home/mondeca/applications/anaconda3/lib/python3.7/site-packages/sklearn/multiclass.py:76: UserWarning: Label not 24 is present in all training examples.\n",
      "  str(classes[c]))\n",
      "/home/mondeca/applications/anaconda3/lib/python3.7/site-packages/sklearn/metrics/classification.py:1143: UndefinedMetricWarning: Precision and F-score are ill-defined and being set to 0.0 in labels with no predicted samples.\n",
      "  'precision', 'predicted', average, warn_for)\n",
      "/home/mondeca/applications/anaconda3/lib/python3.7/site-packages/sklearn/metrics/classification.py:1143: UndefinedMetricWarning: Precision and F-score are ill-defined and being set to 0.0 in samples with no predicted labels.\n",
      "  'precision', 'predicted', average, warn_for)\n"
     ]
    },
    {
     "name": "stdout",
     "output_type": "stream",
     "text": [
      "              precision    recall  f1-score   support\n",
      "\n",
      "           0       0.33      0.10      0.15        31\n",
      "           1       0.00      0.00      0.00        13\n",
      "           2       0.50      0.07      0.12        14\n",
      "           3       0.00      0.00      0.00         2\n",
      "           4       0.14      0.03      0.05        36\n",
      "           5       0.00      0.00      0.00         9\n",
      "           6       0.20      0.07      0.11        28\n",
      "           7       0.00      0.00      0.00        16\n",
      "           8       0.77      0.71      0.74        14\n",
      "           9       0.00      0.00      0.00         5\n",
      "          10       1.00      0.83      0.91         6\n",
      "          11       0.20      0.05      0.08        19\n",
      "          12       0.50      0.17      0.26        40\n",
      "          13       0.50      0.16      0.24        19\n",
      "          14       0.09      0.06      0.07        17\n",
      "          15       0.50      0.12      0.20         8\n",
      "          16       0.00      0.00      0.00         6\n",
      "          17       0.00      0.00      0.00        33\n",
      "          18       0.43      0.32      0.37        28\n",
      "          19       0.19      0.06      0.10        47\n",
      "          20       0.38      0.10      0.16        50\n",
      "          21       0.50      0.12      0.20        16\n",
      "          22       0.00      0.00      0.00         5\n",
      "          23       1.00      0.36      0.53        11\n",
      "          24       0.00      0.00      0.00         2\n",
      "          25       0.71      0.18      0.29        28\n",
      "          26       0.00      0.00      0.00         8\n",
      "          27       0.36      0.13      0.19        31\n",
      "          28       0.50      0.04      0.07        27\n",
      "          29       0.00      0.00      0.00         2\n",
      "          30       0.67      0.17      0.27        12\n",
      "          31       0.00      0.00      0.00         5\n",
      "          32       0.00      0.00      0.00         9\n",
      "          33       0.20      0.06      0.09        33\n",
      "          34       0.31      0.12      0.17        33\n",
      "          35       0.40      0.06      0.10        36\n",
      "          36       0.85      0.73      0.79        15\n",
      "          37       0.57      0.21      0.31        19\n",
      "          38       0.29      0.33      0.31         6\n",
      "          39       0.67      0.18      0.29        11\n",
      "          40       0.25      0.04      0.07        25\n",
      "          41       0.00      0.00      0.00        12\n",
      "          42       0.50      0.18      0.27        11\n",
      "\n",
      "   micro avg       0.38      0.13      0.19       798\n",
      "   macro avg       0.31      0.13      0.17       798\n",
      "weighted avg       0.34      0.13      0.17       798\n",
      " samples avg       0.13      0.12      0.12       798\n",
      "\n",
      "\n",
      "\n",
      "======= ADABOOST =======\n"
     ]
    },
    {
     "name": "stderr",
     "output_type": "stream",
     "text": [
      "/home/mondeca/applications/anaconda3/lib/python3.7/site-packages/sklearn/multiclass.py:76: UserWarning: Label not 24 is present in all training examples.\n",
      "  str(classes[c]))\n",
      "/home/mondeca/applications/anaconda3/lib/python3.7/site-packages/sklearn/metrics/classification.py:1143: UndefinedMetricWarning: Precision and F-score are ill-defined and being set to 0.0 in labels with no predicted samples.\n",
      "  'precision', 'predicted', average, warn_for)\n",
      "/home/mondeca/applications/anaconda3/lib/python3.7/site-packages/sklearn/metrics/classification.py:1143: UndefinedMetricWarning: Precision and F-score are ill-defined and being set to 0.0 in samples with no predicted labels.\n",
      "  'precision', 'predicted', average, warn_for)\n"
     ]
    },
    {
     "name": "stdout",
     "output_type": "stream",
     "text": [
      "              precision    recall  f1-score   support\n",
      "\n",
      "           0       0.64      0.29      0.40        31\n",
      "           1       0.33      0.08      0.12        13\n",
      "           2       0.75      0.43      0.55        14\n",
      "           3       0.00      0.00      0.00         2\n",
      "           4       0.17      0.06      0.08        36\n",
      "           5       0.00      0.00      0.00         9\n",
      "           6       0.08      0.04      0.05        28\n",
      "           7       0.67      0.12      0.21        16\n",
      "           8       0.58      0.50      0.54        14\n",
      "           9       0.00      0.00      0.00         5\n",
      "          10       1.00      0.83      0.91         6\n",
      "          11       0.25      0.05      0.09        19\n",
      "          12       0.50      0.28      0.35        40\n",
      "          13       0.57      0.42      0.48        19\n",
      "          14       0.18      0.12      0.14        17\n",
      "          15       1.00      0.12      0.22         8\n",
      "          16       0.50      0.17      0.25         6\n",
      "          17       0.19      0.09      0.12        33\n",
      "          18       0.55      0.39      0.46        28\n",
      "          19       0.23      0.13      0.16        47\n",
      "          20       0.58      0.22      0.32        50\n",
      "          21       0.00      0.00      0.00        16\n",
      "          22       0.00      0.00      0.00         5\n",
      "          23       1.00      0.55      0.71        11\n",
      "          24       0.00      0.00      0.00         2\n",
      "          25       0.36      0.18      0.24        28\n",
      "          26       0.00      0.00      0.00         8\n",
      "          27       0.36      0.16      0.22        31\n",
      "          28       0.14      0.04      0.06        27\n",
      "          29       0.00      0.00      0.00         2\n",
      "          30       0.80      0.33      0.47        12\n",
      "          31       0.50      0.20      0.29         5\n",
      "          32       1.00      0.33      0.50         9\n",
      "          33       0.29      0.12      0.17        33\n",
      "          34       0.33      0.12      0.18        33\n",
      "          35       0.20      0.11      0.14        36\n",
      "          36       1.00      0.47      0.64        15\n",
      "          37       0.60      0.16      0.25        19\n",
      "          38       0.50      0.33      0.40         6\n",
      "          39       0.67      0.36      0.47        11\n",
      "          40       0.55      0.24      0.33        25\n",
      "          41       0.00      0.00      0.00        12\n",
      "          42       0.75      0.27      0.40        11\n",
      "\n",
      "   micro avg       0.43      0.19      0.26       798\n",
      "   macro avg       0.41      0.19      0.25       798\n",
      "weighted avg       0.40      0.19      0.25       798\n",
      " samples avg       0.20      0.20      0.20       798\n",
      "\n",
      "\n",
      "\n",
      "======= SVC =======\n"
     ]
    },
    {
     "name": "stderr",
     "output_type": "stream",
     "text": [
      "/home/mondeca/applications/anaconda3/lib/python3.7/site-packages/sklearn/multiclass.py:76: UserWarning: Label not 24 is present in all training examples.\n",
      "  str(classes[c]))\n"
     ]
    },
    {
     "name": "stdout",
     "output_type": "stream",
     "text": [
      "              precision    recall  f1-score   support\n",
      "\n",
      "           0       0.00      0.00      0.00        31\n",
      "           1       0.00      0.00      0.00        13\n",
      "           2       0.00      0.00      0.00        14\n",
      "           3       0.00      0.00      0.00         2\n",
      "           4       0.00      0.00      0.00        36\n",
      "           5       0.00      0.00      0.00         9\n",
      "           6       0.00      0.00      0.00        28\n",
      "           7       0.00      0.00      0.00        16\n",
      "           8       0.00      0.00      0.00        14\n",
      "           9       0.00      0.00      0.00         5\n",
      "          10       0.00      0.00      0.00         6\n",
      "          11       0.00      0.00      0.00        19\n",
      "          12       0.00      0.00      0.00        40\n",
      "          13       0.00      0.00      0.00        19\n",
      "          14       0.00      0.00      0.00        17\n",
      "          15       0.00      0.00      0.00         8\n",
      "          16       0.00      0.00      0.00         6\n",
      "          17       0.00      0.00      0.00        33\n",
      "          18       0.00      0.00      0.00        28\n",
      "          19       0.00      0.00      0.00        47\n",
      "          20       0.00      0.00      0.00        50\n",
      "          21       0.00      0.00      0.00        16\n",
      "          22       0.00      0.00      0.00         5\n",
      "          23       0.00      0.00      0.00        11\n",
      "          24       0.00      0.00      0.00         2\n",
      "          25       0.00      0.00      0.00        28\n",
      "          26       0.00      0.00      0.00         8\n",
      "          27       0.00      0.00      0.00        31\n",
      "          28       0.00      0.00      0.00        27\n",
      "          29       0.00      0.00      0.00         2\n",
      "          30       0.00      0.00      0.00        12\n",
      "          31       0.00      0.00      0.00         5\n",
      "          32       0.00      0.00      0.00         9\n",
      "          33       0.00      0.00      0.00        33\n",
      "          34       0.00      0.00      0.00        33\n",
      "          35       0.00      0.00      0.00        36\n",
      "          36       0.00      0.00      0.00        15\n",
      "          37       0.00      0.00      0.00        19\n",
      "          38       0.00      0.00      0.00         6\n",
      "          39       0.00      0.00      0.00        11\n",
      "          40       0.00      0.00      0.00        25\n",
      "          41       0.00      0.00      0.00        12\n",
      "          42       0.00      0.00      0.00        11\n",
      "\n",
      "   micro avg       0.00      0.00      0.00       798\n",
      "   macro avg       0.00      0.00      0.00       798\n",
      "weighted avg       0.00      0.00      0.00       798\n",
      " samples avg       0.00      0.00      0.00       798\n",
      "\n"
     ]
    },
    {
     "name": "stderr",
     "output_type": "stream",
     "text": [
      "/home/mondeca/applications/anaconda3/lib/python3.7/site-packages/sklearn/metrics/classification.py:1143: UndefinedMetricWarning: Precision and F-score are ill-defined and being set to 0.0 in labels with no predicted samples.\n",
      "  'precision', 'predicted', average, warn_for)\n",
      "/home/mondeca/applications/anaconda3/lib/python3.7/site-packages/sklearn/metrics/classification.py:1143: UndefinedMetricWarning: Precision and F-score are ill-defined and being set to 0.0 due to no predicted samples.\n",
      "  'precision', 'predicted', average, warn_for)\n",
      "/home/mondeca/applications/anaconda3/lib/python3.7/site-packages/sklearn/metrics/classification.py:1143: UndefinedMetricWarning: Precision and F-score are ill-defined and being set to 0.0 in samples with no predicted labels.\n",
      "  'precision', 'predicted', average, warn_for)\n"
     ]
    }
   ],
   "source": [
    "# MULTILABEL with other classifiers with ONEVSREST\n",
    "clf_OvsR = {\n",
    "'RF': OneVsRestClassifier(RandomForestClassifier(n_estimators=100, random_state=1, n_jobs=-1)),\n",
    "'BAGGING': OneVsRestClassifier(BaggingClassifier(n_estimators=100,random_state=1)),\n",
    "'ADABOOST': OneVsRestClassifier(AdaBoostClassifier(n_estimators=100, random_state=1)),\n",
    "'SVC': OneVsRestClassifier(SVC(gamma='scale', decision_function_shape='ovo'))\n",
    "}\n",
    "\n",
    "run_classifiers(clf_OvsR, X, Y_mlb, pipeline2)"
   ]
  },
  {
   "cell_type": "code",
   "execution_count": 367,
   "metadata": {},
   "outputs": [
    {
     "name": "stdout",
     "output_type": "stream",
     "text": [
      "\n",
      "\n",
      "======= SVC =======\n"
     ]
    },
    {
     "name": "stderr",
     "output_type": "stream",
     "text": [
      "/home/mondeca/applications/anaconda3/lib/python3.7/site-packages/sklearn/multiclass.py:76: UserWarning: Label not 24 is present in all training examples.\n",
      "  str(classes[c]))\n",
      "/home/mondeca/applications/anaconda3/lib/python3.7/site-packages/sklearn/metrics/classification.py:1143: UndefinedMetricWarning: Precision and F-score are ill-defined and being set to 0.0 in labels with no predicted samples.\n",
      "  'precision', 'predicted', average, warn_for)\n",
      "/home/mondeca/applications/anaconda3/lib/python3.7/site-packages/sklearn/metrics/classification.py:1143: UndefinedMetricWarning: Precision and F-score are ill-defined and being set to 0.0 in samples with no predicted labels.\n",
      "  'precision', 'predicted', average, warn_for)\n"
     ]
    },
    {
     "name": "stdout",
     "output_type": "stream",
     "text": [
      "              precision    recall  f1-score   support\n",
      "\n",
      "           0       0.63      0.39      0.48        31\n",
      "           1       0.36      0.31      0.33        13\n",
      "           2       0.62      0.57      0.59        14\n",
      "           3       0.00      0.00      0.00         2\n",
      "           4       0.29      0.25      0.27        36\n",
      "           5       0.75      0.33      0.46         9\n",
      "           6       0.31      0.36      0.33        28\n",
      "           7       0.13      0.12      0.13        16\n",
      "           8       0.54      0.50      0.52        14\n",
      "           9       0.00      0.00      0.00         5\n",
      "          10       1.00      1.00      1.00         6\n",
      "          11       0.33      0.16      0.21        19\n",
      "          12       0.47      0.47      0.48        40\n",
      "          13       0.53      0.42      0.47        19\n",
      "          14       0.30      0.41      0.35        17\n",
      "          15       0.33      0.25      0.29         8\n",
      "          16       0.50      0.17      0.25         6\n",
      "          17       0.48      0.33      0.39        33\n",
      "          18       0.42      0.39      0.41        28\n",
      "          19       0.23      0.21      0.22        47\n",
      "          20       0.46      0.32      0.38        50\n",
      "          21       0.38      0.31      0.34        16\n",
      "          22       0.50      0.40      0.44         5\n",
      "          23       0.88      0.64      0.74        11\n",
      "          24       0.00      0.00      0.00         2\n",
      "          25       0.48      0.39      0.43        28\n",
      "          26       0.14      0.12      0.13         8\n",
      "          27       0.48      0.32      0.38        31\n",
      "          28       0.13      0.07      0.10        27\n",
      "          29       0.00      0.00      0.00         2\n",
      "          30       0.60      0.50      0.55        12\n",
      "          31       0.50      0.40      0.44         5\n",
      "          32       0.67      0.44      0.53         9\n",
      "          33       0.35      0.42      0.38        33\n",
      "          34       0.12      0.15      0.14        33\n",
      "          35       0.39      0.25      0.31        36\n",
      "          36       0.75      0.60      0.67        15\n",
      "          37       0.28      0.26      0.27        19\n",
      "          38       0.75      0.50      0.60         6\n",
      "          39       0.50      0.36      0.42        11\n",
      "          40       0.35      0.28      0.31        25\n",
      "          41       0.00      0.00      0.00        12\n",
      "          42       0.57      0.36      0.44        11\n",
      "\n",
      "   micro avg       0.39      0.32      0.36       798\n",
      "   macro avg       0.41      0.32      0.35       798\n",
      "weighted avg       0.40      0.32      0.35       798\n",
      " samples avg       0.31      0.34      0.32       798\n",
      "\n",
      "\n",
      "\n",
      "======= SVC_poly =======\n"
     ]
    },
    {
     "name": "stderr",
     "output_type": "stream",
     "text": [
      "/home/mondeca/applications/anaconda3/lib/python3.7/site-packages/sklearn/multiclass.py:76: UserWarning: Label not 24 is present in all training examples.\n",
      "  str(classes[c]))\n",
      "/home/mondeca/applications/anaconda3/lib/python3.7/site-packages/sklearn/metrics/classification.py:1143: UndefinedMetricWarning: Precision and F-score are ill-defined and being set to 0.0 in labels with no predicted samples.\n",
      "  'precision', 'predicted', average, warn_for)\n",
      "/home/mondeca/applications/anaconda3/lib/python3.7/site-packages/sklearn/metrics/classification.py:1143: UndefinedMetricWarning: Precision and F-score are ill-defined and being set to 0.0 in samples with no predicted labels.\n",
      "  'precision', 'predicted', average, warn_for)\n"
     ]
    },
    {
     "name": "stdout",
     "output_type": "stream",
     "text": [
      "              precision    recall  f1-score   support\n",
      "\n",
      "           0       0.71      0.16      0.26        31\n",
      "           1       0.00      0.00      0.00        13\n",
      "           2       0.67      0.29      0.40        14\n",
      "           3       0.00      0.00      0.00         2\n",
      "           4       0.00      0.00      0.00        36\n",
      "           5       0.00      0.00      0.00         9\n",
      "           6       0.21      0.11      0.14        28\n",
      "           7       0.00      0.00      0.00        16\n",
      "           8       0.56      0.36      0.43        14\n",
      "           9       0.02      0.40      0.03         5\n",
      "          10       1.00      0.67      0.80         6\n",
      "          11       0.17      0.05      0.08        19\n",
      "          12       0.64      0.23      0.33        40\n",
      "          13       0.57      0.21      0.31        19\n",
      "          14       0.24      0.24      0.24        17\n",
      "          15       0.33      0.25      0.29         8\n",
      "          16       0.00      0.00      0.00         6\n",
      "          17       0.27      0.09      0.14        33\n",
      "          18       0.46      0.21      0.29        28\n",
      "          19       0.15      0.04      0.07        47\n",
      "          20       0.43      0.12      0.19        50\n",
      "          21       0.29      0.12      0.17        16\n",
      "          22       1.00      0.20      0.33         5\n",
      "          23       0.70      0.64      0.67        11\n",
      "          24       0.00      0.00      0.00         2\n",
      "          25       0.42      0.18      0.25        28\n",
      "          26       0.00      0.00      0.00         8\n",
      "          27       0.60      0.10      0.17        31\n",
      "          28       0.00      0.00      0.00        27\n",
      "          29       0.00      0.00      0.00         2\n",
      "          30       0.00      0.00      0.00        12\n",
      "          31       0.50      0.20      0.29         5\n",
      "          32       0.25      0.11      0.15         9\n",
      "          33       0.50      0.06      0.11        33\n",
      "          34       0.27      0.12      0.17        33\n",
      "          35       0.62      0.14      0.23        36\n",
      "          36       1.00      0.53      0.70        15\n",
      "          37       0.40      0.11      0.17        19\n",
      "          38       0.67      0.33      0.44         6\n",
      "          39       0.67      0.36      0.47        11\n",
      "          40       0.36      0.16      0.22        25\n",
      "          41       0.00      0.00      0.00        12\n",
      "          42       0.40      0.18      0.25        11\n",
      "\n",
      "   micro avg       0.28      0.14      0.19       798\n",
      "   macro avg       0.35      0.16      0.20       798\n",
      "weighted avg       0.37      0.14      0.19       798\n",
      " samples avg       0.12      0.14      0.12       798\n",
      "\n",
      "\n",
      "\n",
      "======= SVC_lin =======\n"
     ]
    },
    {
     "name": "stderr",
     "output_type": "stream",
     "text": [
      "/home/mondeca/applications/anaconda3/lib/python3.7/site-packages/sklearn/multiclass.py:76: UserWarning: Label not 24 is present in all training examples.\n",
      "  str(classes[c]))\n"
     ]
    },
    {
     "name": "stdout",
     "output_type": "stream",
     "text": [
      "              precision    recall  f1-score   support\n",
      "\n",
      "           0       0.52      0.52      0.52        31\n",
      "           1       0.24      0.31      0.27        13\n",
      "           2       0.57      0.57      0.57        14\n",
      "           3       0.00      0.00      0.00         2\n",
      "           4       0.25      0.39      0.30        36\n",
      "           5       0.38      0.33      0.35         9\n",
      "           6       0.27      0.46      0.34        28\n",
      "           7       0.10      0.19      0.13        16\n",
      "           8       0.56      0.64      0.60        14\n",
      "           9       0.00      0.00      0.00         5\n",
      "          10       1.00      1.00      1.00         6\n",
      "          11       0.22      0.21      0.22        19\n",
      "          12       0.35      0.57      0.43        40\n",
      "          13       0.55      0.58      0.56        19\n",
      "          14       0.27      0.47      0.34        17\n",
      "          15       0.27      0.38      0.32         8\n",
      "          16       0.17      0.17      0.17         6\n",
      "          17       0.33      0.45      0.38        33\n",
      "          18       0.42      0.54      0.47        28\n",
      "          19       0.19      0.36      0.25        47\n",
      "          20       0.38      0.46      0.41        50\n",
      "          21       0.31      0.31      0.31        16\n",
      "          22       0.50      0.40      0.44         5\n",
      "          23       0.47      0.64      0.54        11\n",
      "          24       0.00      0.00      0.00         2\n",
      "          25       0.27      0.46      0.34        28\n",
      "          26       0.12      0.12      0.12         8\n",
      "          27       0.28      0.32      0.30        31\n",
      "          28       0.19      0.26      0.22        27\n",
      "          29       0.00      0.00      0.00         2\n",
      "          30       0.45      0.42      0.43        12\n",
      "          31       0.38      0.60      0.46         5\n",
      "          32       0.36      0.56      0.43         9\n",
      "          33       0.30      0.48      0.37        33\n",
      "          34       0.12      0.27      0.16        33\n",
      "          35       0.17      0.28      0.21        36\n",
      "          36       0.77      0.67      0.71        15\n",
      "          37       0.35      0.42      0.38        19\n",
      "          38       0.75      0.50      0.60         6\n",
      "          39       0.25      0.36      0.30        11\n",
      "          40       0.12      0.28      0.17        25\n",
      "          41       0.12      0.17      0.14        12\n",
      "          42       0.38      0.27      0.32        11\n",
      "\n",
      "   micro avg       0.29      0.41      0.34       798\n",
      "   macro avg       0.32      0.38      0.34       798\n",
      "weighted avg       0.31      0.41      0.35       798\n",
      " samples avg       0.28      0.42      0.32       798\n",
      "\n"
     ]
    },
    {
     "name": "stderr",
     "output_type": "stream",
     "text": [
      "/home/mondeca/applications/anaconda3/lib/python3.7/site-packages/sklearn/metrics/classification.py:1143: UndefinedMetricWarning: Precision and F-score are ill-defined and being set to 0.0 in labels with no predicted samples.\n",
      "  'precision', 'predicted', average, warn_for)\n",
      "/home/mondeca/applications/anaconda3/lib/python3.7/site-packages/sklearn/metrics/classification.py:1143: UndefinedMetricWarning: Precision and F-score are ill-defined and being set to 0.0 in samples with no predicted labels.\n",
      "  'precision', 'predicted', average, warn_for)\n"
     ]
    }
   ],
   "source": [
    "# MULTILABEL with other classifiers with ONEVSREST and weight classes\n",
    "clf_OvsR_cb = {\n",
    "'SVC': OneVsRestClassifier(SVC(C=10, gamma=1, kernel=\"rbf\", decision_function_shape='ovo',class_weight=\"balanced\")),\n",
    "'SVC_poly': OneVsRestClassifier(SVC(C=10, gamma=1, kernel=\"poly\", degree=5, decision_function_shape='ovo',class_weight=\"balanced\")),\n",
    "'SVC_lin': OneVsRestClassifier(SVC(C=10, gamma=1, kernel=\"linear\", decision_function_shape='ovo',class_weight=\"balanced\"))\n",
    "}\n",
    "\n",
    "run_classifiers(clf_OvsR_cb, X, Y_mlb, pipeline2)"
   ]
  },
  {
   "cell_type": "code",
   "execution_count": 369,
   "metadata": {},
   "outputs": [],
   "source": [
    "### KERAS MLP with class balanced ###\n",
    "from keras.wrappers.scikit_learn import KerasClassifier\n",
    "from sklearn.model_selection import RandomizedSearchCV\n",
    "from sklearn.utils import class_weight\n",
    "\n",
    "from keras.preprocessing import sequence\n",
    "from keras.preprocessing.text import Tokenizer\n",
    "from keras.preprocessing.sequence import pad_sequences\n",
    "from keras.models import Sequential\n",
    "from keras.layers import Dense, Dropout, Activation\n",
    "from keras.layers import Embedding\n",
    "from keras.layers import Conv1D, GlobalMaxPooling1D\n",
    "from keras.datasets import imdb\n",
    "from keras import layers"
   ]
  },
  {
   "cell_type": "code",
   "execution_count": 425,
   "metadata": {},
   "outputs": [],
   "source": [
    "# We will set the model for calling it with the Scikit learn API\n",
    "\n",
    "np.random.seed(1)\n",
    "epochs = 2\n",
    "batch_size = 10\n",
    "\n",
    "def create_model(input_dim):\n",
    "    model = Sequential()\n",
    "    model.add(Dense(100, input_dim=input_dim))\n",
    "    model.add(Dropout(0.15))\n",
    "    model.add(Activation('relu'))\n",
    "    \n",
    "    # Final layer\n",
    "    model.add(Dense(len(Y_mlb[0])))\n",
    "    model.add(Activation('sigmoid'))\n",
    "    \n",
    "    model.compile(optimizer='adam',\n",
    "                  loss='binary_crossentropy',\n",
    "                  metrics=['categorical_accuracy'])\n",
    "    return model"
   ]
  },
  {
   "cell_type": "code",
   "execution_count": 426,
   "metadata": {},
   "outputs": [],
   "source": [
    "# class weights\n",
    "class_weights = np.apply_along_axis(np.count_nonzero, 0, Y_mlb)\n",
    "\n",
    "# MLP (keras) model inside sklearn container : it seems that it doesnt work for multilabel\n",
    "modelSL = KerasClassifier(build_fn=create_model, epochs=epochs, input_dim=150,\n",
    "                          batch_size=batch_size, verbose=True)"
   ]
  },
  {
   "cell_type": "code",
   "execution_count": 427,
   "metadata": {},
   "outputs": [],
   "source": [
    "model = create_model(input_dim=150)"
   ]
  },
  {
   "cell_type": "code",
   "execution_count": 428,
   "metadata": {},
   "outputs": [],
   "source": [
    "#X_proc = pipeline2.fit_transform(X)"
   ]
  },
  {
   "cell_type": "code",
   "execution_count": 429,
   "metadata": {},
   "outputs": [],
   "source": [
    "X_train, X_test, y_train, y_test = train_test_split(X_proc, Y_mlb, test_size=0.20, random_state=1)"
   ]
  },
  {
   "cell_type": "code",
   "execution_count": 430,
   "metadata": {},
   "outputs": [
    {
     "name": "stdout",
     "output_type": "stream",
     "text": [
      "Train on 524 samples, validate on 132 samples\n",
      "Epoch 1/2\n",
      "524/524 [==============================] - 3s 5ms/step - loss: 0.6795 - acc: 0.6835 - val_loss: 0.6602 - val_acc: 0.9003\n",
      "Epoch 2/2\n",
      "524/524 [==============================] - 0s 84us/step - loss: 0.6390 - acc: 0.9379 - val_loss: 0.6131 - val_acc: 0.9686\n"
     ]
    },
    {
     "data": {
      "text/plain": [
       "<keras.callbacks.History at 0x7fd58b157d68>"
      ]
     },
     "execution_count": 430,
     "metadata": {},
     "output_type": "execute_result"
    }
   ],
   "source": [
    "model.fit(X_train, y_train, epochs=epochs, validation_data=(X_test, y_test), class_weight=class_weights)"
   ]
  },
  {
   "cell_type": "code",
   "execution_count": 431,
   "metadata": {},
   "outputs": [],
   "source": [
    "ypreds = model.predict(X_test)"
   ]
  },
  {
   "cell_type": "code",
   "execution_count": 432,
   "metadata": {},
   "outputs": [],
   "source": [
    "ypreds_int = np.zeros_like(ypreds)\n",
    "ypreds_int[ypreds>=0.5] = 1\n",
    "ypreds_int[ypreds<0.5] = 0"
   ]
  },
  {
   "cell_type": "code",
   "execution_count": 433,
   "metadata": {},
   "outputs": [
    {
     "data": {
      "text/plain": [
       "array([[0.4622172 , 0.45595413, 0.4451928 , ..., 0.48109657, 0.44433624,\n",
       "        0.45964527],\n",
       "       [0.44989595, 0.44656977, 0.43128407, ..., 0.47243938, 0.44211453,\n",
       "        0.43749115],\n",
       "       [0.45616174, 0.45809048, 0.43857908, ..., 0.45111233, 0.4384106 ,\n",
       "        0.46056068],\n",
       "       ...,\n",
       "       [0.46897402, 0.48087987, 0.4401327 , ..., 0.48095387, 0.45686913,\n",
       "        0.4417004 ],\n",
       "       [0.46077904, 0.48773313, 0.4485871 , ..., 0.48432496, 0.4525258 ,\n",
       "        0.4796526 ],\n",
       "       [0.46500972, 0.4602896 , 0.45285636, ..., 0.4594692 , 0.4609194 ,\n",
       "        0.4537854 ]], dtype=float32)"
      ]
     },
     "execution_count": 433,
     "metadata": {},
     "output_type": "execute_result"
    }
   ],
   "source": [
    "ypreds"
   ]
  },
  {
   "cell_type": "code",
   "execution_count": 434,
   "metadata": {},
   "outputs": [
    {
     "data": {
      "text/plain": [
       "(array([ 22,  38,  46,  79,  82,  82,  91, 110, 112, 121]),\n",
       " array([23, 34, 34,  7,  0, 25,  7,  7, 23, 28]))"
      ]
     },
     "execution_count": 434,
     "metadata": {},
     "output_type": "execute_result"
    }
   ],
   "source": [
    "np.where(ypreds_int == 1)"
   ]
  },
  {
   "cell_type": "code",
   "execution_count": 435,
   "metadata": {},
   "outputs": [
    {
     "data": {
      "text/plain": [
       "0.0"
      ]
     },
     "execution_count": 435,
     "metadata": {},
     "output_type": "execute_result"
    }
   ],
   "source": [
    "f1_score(y_test, ypreds_int, average=\"micro\")"
   ]
  },
  {
   "cell_type": "code",
   "execution_count": 97,
   "metadata": {},
   "outputs": [
    {
     "name": "stdout",
     "output_type": "stream",
     "text": [
      "Epoch 1/5\n",
      "524/524 [==============================] - 1s 2ms/step - loss: 4.5621 - acc: 0.0496\n",
      "Epoch 2/5\n",
      "524/524 [==============================] - 0s 149us/step - loss: 4.4983 - acc: 0.1088\n",
      "Epoch 3/5\n",
      "524/524 [==============================] - 0s 157us/step - loss: 4.3979 - acc: 0.1183\n",
      "Epoch 4/5\n",
      "524/524 [==============================] - 0s 157us/step - loss: 4.2570 - acc: 0.1126\n",
      "Epoch 5/5\n",
      "524/524 [==============================] - 0s 149us/step - loss: 4.1328 - acc: 0.1069\n",
      "132/132 [==============================] - 0s 3ms/step\n",
      "Epoch 1/5\n",
      "525/525 [==============================] - 1s 2ms/step - loss: 4.5765 - acc: 0.0533\n",
      "Epoch 2/5\n",
      "525/525 [==============================] - 0s 152us/step - loss: 4.5080 - acc: 0.0914\n",
      "Epoch 3/5\n",
      "525/525 [==============================] - 0s 146us/step - loss: 4.3978 - acc: 0.1276\n",
      "Epoch 4/5\n",
      "525/525 [==============================] - 0s 154us/step - loss: 4.2496 - acc: 0.0952\n",
      "Epoch 5/5\n",
      "525/525 [==============================] - 0s 146us/step - loss: 4.1253 - acc: 0.1124\n",
      "131/131 [==============================] - 0s 3ms/step\n",
      "Epoch 1/5\n",
      "525/525 [==============================] - 1s 2ms/step - loss: 4.5833 - acc: 0.0514\n",
      "Epoch 2/5\n",
      "525/525 [==============================] - 0s 143us/step - loss: 4.5256 - acc: 0.1124\n",
      "Epoch 3/5\n",
      "525/525 [==============================] - 0s 148us/step - loss: 4.4289 - acc: 0.1333\n",
      "Epoch 4/5\n",
      "525/525 [==============================] - 0s 145us/step - loss: 4.2962 - acc: 0.1086\n",
      "Epoch 5/5\n",
      "525/525 [==============================] - 0s 145us/step - loss: 4.1724 - acc: 0.1124\n",
      "131/131 [==============================] - 0s 3ms/step\n",
      "Epoch 1/5\n",
      "525/525 [==============================] - 1s 2ms/step - loss: 4.4829 - acc: 0.0400\n",
      "Epoch 2/5\n",
      "525/525 [==============================] - 0s 148us/step - loss: 4.4214 - acc: 0.1048\n",
      "Epoch 3/5\n",
      "525/525 [==============================] - 0s 165us/step - loss: 4.3190 - acc: 0.1276\n",
      "Epoch 4/5\n",
      "525/525 [==============================] - 0s 154us/step - loss: 4.1787 - acc: 0.1257\n",
      "Epoch 5/5\n",
      "525/525 [==============================] - 0s 145us/step - loss: 4.0498 - acc: 0.1124\n",
      "131/131 [==============================] - 0s 3ms/step\n",
      "Epoch 1/5\n",
      "525/525 [==============================] - 1s 2ms/step - loss: 4.5920 - acc: 0.0457\n",
      "Epoch 2/5\n",
      "525/525 [==============================] - 0s 150us/step - loss: 4.5301 - acc: 0.0971\n",
      "Epoch 3/5\n",
      "525/525 [==============================] - 0s 141us/step - loss: 4.4311 - acc: 0.1638\n",
      "Epoch 4/5\n",
      "525/525 [==============================] - 0s 147us/step - loss: 4.2873 - acc: 0.1524\n",
      "Epoch 5/5\n",
      "525/525 [==============================] - 0s 144us/step - loss: 4.1640 - acc: 0.1124\n",
      "131/131 [==============================] - 0s 4ms/step\n"
     ]
    }
   ],
   "source": [
    "kf = KFold(n_splits=5, shuffle=True, random_state=0)\n",
    "y_pred = cross_val_predict(modelSL, X_proc, Y_mlb, cv=kf)\n",
    "#print(classification_report(Y_mlb, y_pred))      "
   ]
  },
  {
   "cell_type": "code",
   "execution_count": 98,
   "metadata": {},
   "outputs": [
    {
     "data": {
      "text/plain": [
       "array([20, 19, 20, 20, 19, 19, 19, 20, 20, 20, 20, 20, 19, 20, 20, 19, 20,\n",
       "       19, 20, 20, 19, 19, 20, 19, 20, 20, 20, 20, 20, 20, 20, 20, 20, 20,\n",
       "       19, 20, 19, 19, 19, 19, 20, 20, 19, 19, 20, 20, 19, 20, 19, 20, 20,\n",
       "       19, 20, 19, 20, 19, 20, 19, 19, 20, 20, 20, 19, 20, 20, 20, 19, 20,\n",
       "       19, 20, 19, 19, 19, 20, 19, 19, 19, 20, 19, 20, 19, 20, 19, 20, 20,\n",
       "       19, 19, 20, 20, 19, 19, 20, 19, 20, 20, 20, 20, 19, 20, 19, 20, 20,\n",
       "       20, 19, 12, 19, 20, 19, 19, 19, 19, 20, 19, 19, 20, 20, 20, 20, 19,\n",
       "       20, 20, 20, 20, 20, 20, 20, 20, 20, 20, 20, 20, 20, 19, 20, 19, 20,\n",
       "       19, 19, 20, 20, 20, 19, 20, 20, 20, 19, 20, 19, 20, 19, 19, 19, 20,\n",
       "       20, 19, 19, 20, 20, 20, 20, 19, 19, 20, 19, 19, 19, 20, 19, 20, 19,\n",
       "       19, 19, 19, 19, 20, 20, 20, 19, 19, 20, 20, 20, 20, 20, 19, 20, 20,\n",
       "       19, 19, 20, 19, 19, 20, 20, 20, 19, 19, 19, 20, 20, 20, 19, 19, 19,\n",
       "       20, 19, 19, 20, 20, 20, 20, 20, 20, 19, 20, 20, 20, 20, 20, 19, 20,\n",
       "       20, 19, 20, 19, 19, 19, 20, 20, 20, 19, 19, 20, 19, 20, 19, 19, 19,\n",
       "       19, 12, 19, 20, 20, 12, 20, 19, 19, 20, 19, 20, 20, 19, 19, 20, 20,\n",
       "       20, 19, 20, 20, 20, 20, 20, 20, 20, 20, 20, 20, 20, 19, 19, 20, 19,\n",
       "       19, 20, 20, 19, 12, 20, 19, 20, 20, 20, 12, 20, 20, 19, 19, 20, 20,\n",
       "       20, 20, 19, 20, 19, 20, 20, 19, 20, 19, 19, 20, 19, 20, 19, 19, 20,\n",
       "       19, 20, 19, 20, 20, 20, 19, 19, 20, 19, 20, 19, 19, 19, 20, 20, 20,\n",
       "       20, 20, 19, 20, 19, 19, 19, 19, 20, 19, 19, 19, 19, 19, 19, 19, 20,\n",
       "       20, 20, 19, 20, 19, 19, 19, 20, 19, 20, 20, 20, 19, 20, 20, 19, 20,\n",
       "       20, 20, 20, 19, 19, 19, 19, 20, 19, 19, 19, 19, 19, 20, 19, 20, 19,\n",
       "       20, 20, 12, 20, 20, 20, 19, 19, 20, 20, 19, 20, 20, 20, 19, 20, 20,\n",
       "       20, 19, 20, 20, 12, 20, 19, 19, 12, 20, 19, 19, 19, 20, 19, 20, 20,\n",
       "       20, 19, 19, 19, 20, 20, 20, 20, 20, 19, 20, 20, 20, 20, 20, 19, 20,\n",
       "       20, 20, 20, 20, 20, 20, 20, 19, 20, 20, 19, 19, 20, 20, 20, 20, 20,\n",
       "       20, 20, 20, 20, 19, 20, 19, 20, 19, 19, 19, 20, 20, 20, 20, 20, 19,\n",
       "       19, 20, 19, 19, 19, 20, 19, 20, 20, 19, 20, 19, 19, 20, 20, 20, 20,\n",
       "       19, 19, 19, 19, 20, 19, 19, 20, 19, 20, 20, 20, 20, 19, 20, 12, 20,\n",
       "       19, 20, 19, 19, 20, 20, 19, 19, 20, 19, 20, 20, 19, 20, 20, 19, 20,\n",
       "       19, 19, 20, 20, 20, 19, 19, 20, 19, 19, 19, 19, 20, 20, 20, 20, 19,\n",
       "       20, 20, 19, 20, 19, 19, 20, 19, 19, 19, 20, 19, 19, 19, 19, 20, 19,\n",
       "       20, 20, 20, 19, 19, 19, 20, 20, 19, 20, 20, 20, 20, 20, 20, 20, 19,\n",
       "       20, 20, 20, 20, 20, 20, 19, 19, 19, 20, 19, 12, 20, 19, 19, 20, 20,\n",
       "       20, 20, 20, 20, 20, 12, 20, 19, 19, 20, 19, 20, 20, 20, 20, 20, 19,\n",
       "       19, 20, 19, 19, 20, 19, 20, 19, 20, 20, 20, 19, 20, 20, 20, 19, 20,\n",
       "       19, 19, 20, 20, 20, 19, 20, 19, 19, 20, 19, 20, 20, 20, 19, 20, 20,\n",
       "       20, 20, 19, 20, 19, 20, 20, 20, 20, 20, 20, 20, 20, 19, 20, 20, 20,\n",
       "       20, 19, 20, 20, 19, 20, 20, 20, 19, 20])"
      ]
     },
     "execution_count": 98,
     "metadata": {},
     "output_type": "execute_result"
    }
   ],
   "source": [
    "y_pred"
   ]
  },
  {
   "cell_type": "code",
   "execution_count": 19,
   "metadata": {},
   "outputs": [],
   "source": [
    "### BEST MLP PIPELINE\n",
    "pipeline_mlp = Pipeline([\n",
    "            ('tfidf', TfidfVectorizer(tokenizer=Tokenizer, min_df=.0025, max_df=0.25, ngram_range=(1,3))),\n",
    "            ('svd', TruncatedSVD(algorithm='randomized', n_components=100, random_state=1)),\n",
    "            ('MLP', MLPClassifier(solver='lbfgs',alpha=1e-5,hidden_layer_sizes=(100),random_state=1))])"
   ]
  },
  {
   "cell_type": "code",
   "execution_count": 13,
   "metadata": {},
   "outputs": [],
   "source": [
    "X_train, X_test, y_train, y_test, vocabs_train, vocabs_test = train_test_split(X, Y_mlb, vocabs, test_size=0.20, random_state=0)"
   ]
  },
  {
   "cell_type": "code",
   "execution_count": 198,
   "metadata": {},
   "outputs": [
    {
     "data": {
      "text/plain": [
       "Pipeline(memory=None,\n",
       "     steps=[('tfidf', TfidfVectorizer(analyzer='word', binary=False, decode_error='strict',\n",
       "        dtype=<class 'numpy.float64'>, encoding='utf-8', input='content',\n",
       "        lowercase=True, max_df=0.25, max_features=None, min_df=0.0025,\n",
       "        ngram_range=(1, 3), norm='l2', preprocessor=None, smooth_idf...True, solver='lbfgs', tol=0.0001,\n",
       "       validation_fraction=0.1, verbose=False, warm_start=False))])"
      ]
     },
     "execution_count": 198,
     "metadata": {},
     "output_type": "execute_result"
    }
   ],
   "source": [
    "# Training\n",
    "pipeline_mlp.fit(X_train, y_train)"
   ]
  },
  {
   "cell_type": "code",
   "execution_count": 199,
   "metadata": {},
   "outputs": [],
   "source": [
    "y_pred = pipeline_mlp.predict(X_test)"
   ]
  },
  {
   "cell_type": "code",
   "execution_count": 200,
   "metadata": {},
   "outputs": [],
   "source": [
    "y_pred_probas = pipeline_mlp.predict_proba(X_test)"
   ]
  },
  {
   "cell_type": "code",
   "execution_count": 201,
   "metadata": {},
   "outputs": [
    {
     "data": {
      "text/plain": [
       "array([[1.61084114e-26, 3.03420474e-28, 1.97892467e-38, ...,\n",
       "        6.45401528e-29, 4.43539277e-38, 1.25558894e-34],\n",
       "       [1.35484764e-13, 1.18487097e-56, 1.98329224e-41, ...,\n",
       "        6.35343769e-11, 4.07530161e-10, 1.88383652e-52],\n",
       "       [1.76924771e-25, 3.42626342e-34, 1.11219954e-49, ...,\n",
       "        2.56725686e-34, 4.22418826e-47, 2.40280405e-37],\n",
       "       ...,\n",
       "       [6.53904933e-52, 8.00590038e-31, 3.38471659e-37, ...,\n",
       "        9.24587112e-28, 2.09201948e-39, 1.20330368e-46],\n",
       "       [3.95278898e-84, 3.23055830e-38, 6.55220352e-72, ...,\n",
       "        1.77668911e-33, 4.14978945e-97, 1.34202954e-86],\n",
       "       [1.16159507e-26, 5.16314801e-25, 2.24881456e-53, ...,\n",
       "        2.80328582e-30, 7.04062310e-55, 2.66813690e-27]])"
      ]
     },
     "execution_count": 201,
     "metadata": {},
     "output_type": "execute_result"
    }
   ],
   "source": [
    "y_pred_probas"
   ]
  },
  {
   "cell_type": "code",
   "execution_count": 202,
   "metadata": {},
   "outputs": [],
   "source": [
    "# Get one tag for each prediction by the highest value in the predicted vector\n",
    "row_maxs = y_pred_probas.max(axis=1, keepdims=True)\n",
    "# Indices of maximum value for each row\n",
    "y_pred1 = np.where(y_pred_probas == row_maxs, 1, 0)"
   ]
  },
  {
   "cell_type": "code",
   "execution_count": 203,
   "metadata": {},
   "outputs": [
    {
     "name": "stdout",
     "output_type": "stream",
     "text": [
      "[('Society',), ('RDF',), ('Services',), ('Environment',), ('Services',)]\n",
      "[('API',), ('RDF',), ('Security',), ('Time',), ('Society',)]\n",
      "['wdrs' 'rr' 'algo' 'interval' 'comm']\n"
     ]
    }
   ],
   "source": [
    "# Compare prediction and true label\n",
    "print(mlb.inverse_transform(y_pred1[:5]))\n",
    "print(mlb.inverse_transform(y_test[:5]))\n",
    "print(vocabs_test[:5])"
   ]
  },
  {
   "cell_type": "code",
   "execution_count": 39,
   "metadata": {},
   "outputs": [
    {
     "name": "stdout",
     "output_type": "stream",
     "text": [
      "[1.54885587e-120 4.02558368e-033 4.97503419e-049 5.88969552e-042\n",
      " 1.53312744e-071 2.28532802e-127 1.70999415e-094 1.06012728e-075\n",
      " 5.04039157e-063 1.63265017e-037 4.36245761e-098 7.02502911e-054\n",
      " 7.30329951e-092 3.08354532e-057 6.37495054e-116 2.31459374e-062\n",
      " 1.27203227e-082 3.03122087e-105 1.59619395e-086 3.35553572e-066\n",
      " 9.99999999e-001 4.90648356e-077 1.08729097e-073 5.49531645e-032\n",
      " 9.07680576e-053 1.21609655e-106 4.90804301e-051 3.36449920e-006\n",
      " 1.10067037e-060 3.58686655e-046 1.89011519e-028 3.55901399e-145\n",
      " 1.06019624e-102 1.47854944e-059 7.19587903e-098 2.99722375e-014\n",
      " 5.51782322e-062 8.25005058e-058 3.03752267e-067 2.98471665e-086\n",
      " 6.40590116e-045 1.28706158e-083 2.42568169e-047]\n",
      "(array([20]),)\n"
     ]
    }
   ],
   "source": [
    "# It seems that labels are predicted if value of neuron > 0.5\n",
    "print(y_pred_probas[4])\n",
    "print(np.where(y_pred[4] == 1))"
   ]
  },
  {
   "cell_type": "code",
   "execution_count": 204,
   "metadata": {},
   "outputs": [
    {
     "name": "stdout",
     "output_type": "stream",
     "text": [
      "0.26459143968871596\n",
      "0.35051546391752575\n",
      "0.25569895221058014\n",
      "0.2125\n"
     ]
    },
    {
     "name": "stderr",
     "output_type": "stream",
     "text": [
      "/home/mondeca/applications/anaconda3/lib/python3.7/site-packages/sklearn/metrics/classification.py:1143: UndefinedMetricWarning: Precision is ill-defined and being set to 0.0 in labels with no predicted samples.\n",
      "  'precision', 'predicted', average, warn_for)\n"
     ]
    }
   ],
   "source": [
    "print(f1_score(y_test, y_pred, average='micro'))\n",
    "print(precision_score(y_test, y_pred, average=\"micro\"))\n",
    "print(precision_score(y_test, y_pred, average=\"macro\"))\n",
    "print(recall_score(y_test, y_pred, average=\"micro\"))"
   ]
  },
  {
   "cell_type": "code",
   "execution_count": 6,
   "metadata": {},
   "outputs": [],
   "source": [
    "def cust_metric(y_true, y_pred_proba):\n",
    "    # Keep only one label with the higher proba\n",
    "    row_maxs = y_pred_proba.max(axis=1, keepdims=True)\n",
    "    # Indices of maximum value for each row\n",
    "    maxis = np.where(y_pred_proba == row_maxs, 1, 0)\n",
    "    # 1 if max value is indeed a tag, 0 otherwise\n",
    "    check = y_true[maxis == 1]\n",
    "    return np.mean(check)"
   ]
  },
  {
   "cell_type": "code",
   "execution_count": 19,
   "metadata": {},
   "outputs": [
    {
     "name": "stdout",
     "output_type": "stream",
     "text": [
      "0.35365853658536583\n"
     ]
    }
   ],
   "source": [
    "print(cust_metric(y_test, y_pred_probas))"
   ]
  },
  {
   "cell_type": "code",
   "execution_count": 15,
   "metadata": {},
   "outputs": [],
   "source": [
    "#################################################\n",
    "########### TRAIN MODEL WITH ALL DATA ###########\n",
    "#################################################\n",
    "\n",
    "pipeline_mlp = Pipeline([\n",
    "            ('tfidf', TfidfVectorizer(tokenizer=Tokenizer, min_df=.0025, max_df=0.25, ngram_range=(1,3))),\n",
    "            ('svd', TruncatedSVD(algorithm='randomized', n_components=100, random_state=1)),\n",
    "            ('MLP', MLPClassifier(solver='lbfgs',alpha=1e-5,hidden_layer_sizes=(100),random_state=1))])"
   ]
  },
  {
   "cell_type": "code",
   "execution_count": 16,
   "metadata": {},
   "outputs": [
    {
     "data": {
      "text/plain": [
       "Pipeline(memory=None,\n",
       "     steps=[('tfidf', TfidfVectorizer(analyzer='word', binary=False, decode_error='strict',\n",
       "        dtype=<class 'numpy.float64'>, encoding='utf-8', input='content',\n",
       "        lowercase=True, max_df=0.25, max_features=None, min_df=0.0025,\n",
       "        ngram_range=(1, 3), norm='l2', preprocessor=None, smooth_idf...True, solver='lbfgs', tol=0.0001,\n",
       "       validation_fraction=0.1, verbose=False, warm_start=False))])"
      ]
     },
     "execution_count": 16,
     "metadata": {},
     "output_type": "execute_result"
    }
   ],
   "source": [
    "pipeline_mlp.fit(X, Y_mlb)"
   ]
  },
  {
   "cell_type": "code",
   "execution_count": 23,
   "metadata": {},
   "outputs": [
    {
     "data": {
      "text/plain": [
       "array([[0, 0, 0, 0, 0, 0, 0, 0, 0, 0, 0, 0, 0, 0, 0, 0, 0, 0, 0, 0, 0, 0,\n",
       "        0, 0, 0, 0, 0, 0, 0, 0, 0, 0, 0, 0, 0, 0, 0, 0, 0, 0, 0, 0, 0]])"
      ]
     },
     "execution_count": 23,
     "metadata": {},
     "output_type": "execute_result"
    }
   ],
   "source": [
    "pipeline_mlp.predict([\"events all the events i love\"])"
   ]
  },
  {
   "cell_type": "code",
   "execution_count": 24,
   "metadata": {},
   "outputs": [
    {
     "data": {
      "text/plain": [
       "['mlb.pkl']"
      ]
     },
     "execution_count": 24,
     "metadata": {},
     "output_type": "execute_result"
    }
   ],
   "source": [
    "# Save pipeline and mlb transformer\n",
    "joblib.dump(pipeline_mlp, \"clf.pkl\")\n",
    "\n",
    "joblib.dump(mlb, \"mlb.pkl\")"
   ]
  },
  {
   "cell_type": "code",
   "execution_count": 14,
   "metadata": {},
   "outputs": [
    {
     "name": "stdout",
     "output_type": "stream",
     "text": [
      "0.9906542056074766\n",
      "0.9875776397515528\n",
      "0.8772609819121449\n",
      "0.99375\n"
     ]
    },
    {
     "name": "stderr",
     "output_type": "stream",
     "text": [
      "/home/mondeca/applications/anaconda3/lib/python3.7/site-packages/sklearn/metrics/classification.py:1143: UndefinedMetricWarning: Precision is ill-defined and being set to 0.0 in labels with no predicted samples.\n",
      "  'precision', 'predicted', average, warn_for)\n"
     ]
    }
   ],
   "source": [
    "# Prediction on train set\n",
    "y_pred = pipeline_mlp.predict(X_test)\n",
    "print(f1_score(y_test, y_pred, average='micro'))\n",
    "print(precision_score(y_test, y_pred, average=\"micro\"))\n",
    "print(precision_score(y_test, y_pred, average=\"macro\"))\n",
    "print(recall_score(y_test, y_pred, average=\"micro\"))"
   ]
  },
  {
   "cell_type": "code",
   "execution_count": 30,
   "metadata": {},
   "outputs": [],
   "source": [
    "#print(y_pred[:4])\n",
    "#print(y_test[:4])"
   ]
  },
  {
   "cell_type": "code",
   "execution_count": 15,
   "metadata": {},
   "outputs": [],
   "source": [
    "# Load new LoV vocabs\n",
    "with open('newDATA.pkl', 'rb') as handle:\n",
    "    Xnew, vocabs = pickle.load(handle)\n",
    "    \n",
    "Xnew = np.array(Xnew)"
   ]
  },
  {
   "cell_type": "code",
   "execution_count": 16,
   "metadata": {},
   "outputs": [],
   "source": [
    "ynew_pred = pipeline_mlp.predict(Xnew)\n",
    "ynew_predProba = pipeline_mlp.predict_proba(Xnew)"
   ]
  },
  {
   "cell_type": "code",
   "execution_count": 17,
   "metadata": {},
   "outputs": [],
   "source": [
    "# Get one tag for each prediction by the highest value in the predicted vector\n",
    "row_maxs = ynew_predProba.max(axis=1, keepdims=True)\n",
    "# Indices of maximum value for each row\n",
    "ynew_pred1 = np.where(ynew_predProba == row_maxs, 1, 0)"
   ]
  },
  {
   "cell_type": "code",
   "execution_count": 18,
   "metadata": {},
   "outputs": [
    {
     "name": "stdout",
     "output_type": "stream",
     "text": [
      "['UsabilityOntology.rdf', 'cultural-event.owl', 'munc.owl', 'catalogue.owl', 'terms.ttl', 'denotative-description.owl', 'context-description.owl', 'ontology.ttl', 'location.owl', 'core.owl', 'vir.ttl', 'arco.owl']\n"
     ]
    }
   ],
   "source": [
    "print(vocabs)\n",
    "newPreds = mlb.inverse_transform(ynew_pred)\n",
    "newPreds1 = mlb.inverse_transform(ynew_pred1)"
   ]
  },
  {
   "cell_type": "code",
   "execution_count": 19,
   "metadata": {},
   "outputs": [
    {
     "data": {
      "text/plain": [
       "[('UsabilityOntology.rdf', (), ('API',)),\n",
       " ('cultural-event.owl', ('Events', 'Multimedia'), ('Events',)),\n",
       " ('munc.owl', ('RDF',), ('RDF',)),\n",
       " ('catalogue.owl', ('Catalogs', 'Government'), ('Government',)),\n",
       " ('terms.ttl', ('General & Upper', 'Services'), ('General & Upper',)),\n",
       " ('denotative-description.owl',\n",
       "  ('Catalogs', 'Events', 'Government'),\n",
       "  ('Catalogs',)),\n",
       " ('context-description.owl',\n",
       "  ('Catalogs', 'Events', 'Multimedia'),\n",
       "  ('Catalogs',)),\n",
       " ('ontology.ttl', ('Industry', 'Services'), ('Industry',)),\n",
       " ('location.owl', (), ('Events',)),\n",
       " ('core.owl', ('Events',), ('Events',)),\n",
       " ('vir.ttl', (), ('Support',)),\n",
       " ('arco.owl', ('Catalogs', 'Events', 'Multimedia'), ('Catalogs',))]"
      ]
     },
     "execution_count": 19,
     "metadata": {},
     "output_type": "execute_result"
    }
   ],
   "source": [
    "[(x,y,z) for x,y,z in zip(vocabs, newPreds, newPreds1)]"
   ]
  },
  {
   "cell_type": "code",
   "execution_count": null,
   "metadata": {},
   "outputs": [],
   "source": [
    "####################################"
   ]
  },
  {
   "cell_type": "code",
   "execution_count": 38,
   "metadata": {},
   "outputs": [],
   "source": [
    "# TEST RANDOM FOREST\n",
    "pipeline_RF = Pipeline([\n",
    "            ('tfidf', TfidfVectorizer(tokenizer=Tokenizer, min_df=.0025, max_df=0.25, ngram_range=(1,3))),\n",
    "            ('svd', TruncatedSVD(algorithm='randomized', n_components=100, random_state=1)),\n",
    "            ('RF', RandomForestClassifier(n_estimators=200, random_state=1, n_jobs=50))])"
   ]
  },
  {
   "cell_type": "code",
   "execution_count": 39,
   "metadata": {},
   "outputs": [
    {
     "data": {
      "text/plain": [
       "Pipeline(memory=None,\n",
       "     steps=[('tfidf', TfidfVectorizer(analyzer='word', binary=False, decode_error='strict',\n",
       "        dtype=<class 'numpy.float64'>, encoding='utf-8', input='content',\n",
       "        lowercase=True, max_df=0.25, max_features=None, min_df=0.0025,\n",
       "        ngram_range=(1, 3), norm='l2', preprocessor=None, smooth_idf...timators=200, n_jobs=50,\n",
       "            oob_score=False, random_state=1, verbose=0, warm_start=False))])"
      ]
     },
     "execution_count": 39,
     "metadata": {},
     "output_type": "execute_result"
    }
   ],
   "source": [
    "# Training\n",
    "pipeline_RF.fit(X_train, y_train)"
   ]
  },
  {
   "cell_type": "code",
   "execution_count": 48,
   "metadata": {},
   "outputs": [],
   "source": [
    "y_pred = pipeline_RF.predict(X_test)"
   ]
  },
  {
   "cell_type": "code",
   "execution_count": 51,
   "metadata": {},
   "outputs": [
    {
     "data": {
      "text/plain": [
       "array([0., 0., 0., 0., 0., 0., 0., 0., 0., 0., 0., 0., 0., 0., 0., 0., 0.,\n",
       "       0., 0., 0., 0., 0., 0., 0., 0., 0., 0., 0., 0., 0., 0., 0., 0., 0.,\n",
       "       0., 0., 0., 0., 0., 0., 0., 0., 0.])"
      ]
     },
     "execution_count": 51,
     "metadata": {},
     "output_type": "execute_result"
    }
   ],
   "source": [
    "y_pred[2]"
   ]
  },
  {
   "cell_type": "code",
   "execution_count": 40,
   "metadata": {},
   "outputs": [],
   "source": [
    "y_pred_probas = pipeline_RF.predict_proba(X_test)"
   ]
  },
  {
   "cell_type": "code",
   "execution_count": 66,
   "metadata": {},
   "outputs": [
    {
     "data": {
      "text/plain": [
       "(132, 43)"
      ]
     },
     "execution_count": 66,
     "metadata": {},
     "output_type": "execute_result"
    }
   ],
   "source": [
    "y_pred_probas_proc = np.array(y_pred_probas)\n",
    "y_pred_probas_proc = y_pred_probas_proc[:,:,1].T\n",
    "y_pred_probas_proc.shape"
   ]
  },
  {
   "cell_type": "code",
   "execution_count": 67,
   "metadata": {},
   "outputs": [
    {
     "data": {
      "text/plain": [
       "array([[0.04 , 0.02 , 0.005, ..., 0.03 , 0.025, 0.   ],\n",
       "       [0.15 , 0.01 , 0.005, ..., 0.075, 0.065, 0.   ],\n",
       "       [0.02 , 0.005, 0.035, ..., 0.035, 0.015, 0.005],\n",
       "       ...,\n",
       "       [0.015, 0.01 , 0.015, ..., 0.055, 0.03 , 0.   ],\n",
       "       [0.02 , 0.005, 0.   , ..., 0.02 , 0.   , 0.005],\n",
       "       [0.04 , 0.06 , 0.015, ..., 0.015, 0.01 , 0.01 ]])"
      ]
     },
     "execution_count": 67,
     "metadata": {},
     "output_type": "execute_result"
    }
   ],
   "source": [
    "y_pred_probas_proc"
   ]
  },
  {
   "cell_type": "code",
   "execution_count": 65,
   "metadata": {},
   "outputs": [
    {
     "data": {
      "text/plain": [
       "(132, 43)"
      ]
     },
     "execution_count": 65,
     "metadata": {},
     "output_type": "execute_result"
    }
   ],
   "source": [
    "y_pred_probas_proc.T.shape"
   ]
  },
  {
   "cell_type": "code",
   "execution_count": 69,
   "metadata": {},
   "outputs": [
    {
     "name": "stdout",
     "output_type": "stream",
     "text": [
      "0.3333333333333333\n"
     ]
    }
   ],
   "source": [
    "print(cust_metric(y_test, y_pred_probas_proc))"
   ]
  },
  {
   "cell_type": "code",
   "execution_count": null,
   "metadata": {},
   "outputs": [],
   "source": [
    "#################################################\n",
    "############## DOC2VEC approach #################\n",
    "#################################################"
   ]
  },
  {
   "cell_type": "code",
   "execution_count": 223,
   "metadata": {},
   "outputs": [],
   "source": [
    "from gensim.models.doc2vec import TaggedDocument\n",
    "\n",
    "# Split (get explicit labels and no mlb)\n",
    "X_train, X_test, y_train, y_test, vocabs_train, vocabs_test = train_test_split(X, Y, vocabs, test_size=0.20, random_state=0)"
   ]
  },
  {
   "cell_type": "code",
   "execution_count": 224,
   "metadata": {},
   "outputs": [],
   "source": [
    "train_tagged = [TaggedDocument(words = Tokenizer(doc), tags=tags) for doc, tags in zip(X_train, y_train)]\n",
    "test_tagged = [TaggedDocument(words = Tokenizer(doc), tags=tags) for doc, tags in zip(X_test, y_test)]"
   ]
  },
  {
   "cell_type": "code",
   "execution_count": 225,
   "metadata": {},
   "outputs": [],
   "source": [
    "import multiprocessing\n",
    "cores = multiprocessing.cpu_count()"
   ]
  },
  {
   "cell_type": "code",
   "execution_count": 226,
   "metadata": {},
   "outputs": [
    {
     "name": "stderr",
     "output_type": "stream",
     "text": [
      "100%|██████████| 524/524 [00:00<00:00, 1213592.10it/s]\n"
     ]
    }
   ],
   "source": [
    "from gensim.models import Doc2Vec\n",
    "from tqdm import tqdm\n",
    "from sklearn import utils\n",
    "\n",
    "np.random.seed(0)\n",
    "\n",
    "# Building vocab\n",
    "model_dbow = Doc2Vec(dm=0, vector_size=300, window = 5,  negative=10, hs=0, min_count=2, sample = 0, workers=cores, seed=0)\n",
    "model_dbow.build_vocab([x for x in tqdm(train_tagged)])"
   ]
  },
  {
   "cell_type": "code",
   "execution_count": 227,
   "metadata": {},
   "outputs": [
    {
     "name": "stdout",
     "output_type": "stream",
     "text": [
      "CPU times: user 3min 1s, sys: 625 ms, total: 3min 2s\n",
      "Wall time: 25.3 s\n"
     ]
    }
   ],
   "source": [
    "%%time\n",
    "model_dbow.train(train_tagged, total_examples=len(train_tagged), epochs=30)"
   ]
  },
  {
   "cell_type": "code",
   "execution_count": 228,
   "metadata": {},
   "outputs": [],
   "source": [
    "# Transform text \n",
    "def doc_to_vec(X_tagged):\n",
    "    vect = [model_dbow.infer_vector(x[0]) for x in X_tagged]\n",
    "    return np.array(vect)"
   ]
  },
  {
   "cell_type": "code",
   "execution_count": 229,
   "metadata": {},
   "outputs": [],
   "source": [
    "X_train_vect = doc_to_vec(train_tagged)\n",
    "X_test_vect = doc_to_vec(test_tagged)"
   ]
  },
  {
   "cell_type": "code",
   "execution_count": 230,
   "metadata": {},
   "outputs": [
    {
     "data": {
      "text/plain": [
       "(524, 300)"
      ]
     },
     "execution_count": 230,
     "metadata": {},
     "output_type": "execute_result"
    }
   ],
   "source": [
    "X_train_vect.shape"
   ]
  },
  {
   "cell_type": "code",
   "execution_count": 231,
   "metadata": {},
   "outputs": [],
   "source": [
    "y_train_mlb = mlb.transform(y_train)\n",
    "y_test_mlb = mlb.transform(y_test)"
   ]
  },
  {
   "cell_type": "code",
   "execution_count": 233,
   "metadata": {},
   "outputs": [
    {
     "data": {
      "text/plain": [
       "array([[0, 0, 1, ..., 0, 0, 0],\n",
       "       [0, 0, 0, ..., 0, 0, 0],\n",
       "       [0, 0, 0, ..., 0, 0, 0],\n",
       "       ...,\n",
       "       [0, 1, 0, ..., 0, 0, 0],\n",
       "       [0, 0, 0, ..., 0, 0, 0],\n",
       "       [1, 0, 0, ..., 0, 0, 0]])"
      ]
     },
     "execution_count": 233,
     "metadata": {},
     "output_type": "execute_result"
    }
   ],
   "source": [
    "#y_train_mlb"
   ]
  },
  {
   "cell_type": "code",
   "execution_count": 234,
   "metadata": {},
   "outputs": [],
   "source": [
    "mlp = MLPClassifier(solver='lbfgs',alpha=1e-5,hidden_layer_sizes=(200, 100),random_state=1)"
   ]
  },
  {
   "cell_type": "code",
   "execution_count": 235,
   "metadata": {},
   "outputs": [
    {
     "data": {
      "text/plain": [
       "MLPClassifier(activation='relu', alpha=1e-05, batch_size='auto', beta_1=0.9,\n",
       "       beta_2=0.999, early_stopping=False, epsilon=1e-08,\n",
       "       hidden_layer_sizes=(200, 100), learning_rate='constant',\n",
       "       learning_rate_init=0.001, max_iter=200, momentum=0.9,\n",
       "       n_iter_no_change=10, nesterovs_momentum=True, power_t=0.5,\n",
       "       random_state=1, shuffle=True, solver='lbfgs', tol=0.0001,\n",
       "       validation_fraction=0.1, verbose=False, warm_start=False)"
      ]
     },
     "execution_count": 235,
     "metadata": {},
     "output_type": "execute_result"
    }
   ],
   "source": [
    "mlp.fit(X_train_vect, y_train_mlb)"
   ]
  },
  {
   "cell_type": "code",
   "execution_count": 236,
   "metadata": {},
   "outputs": [],
   "source": [
    "y_pred = mlp.predict(X_test_vect)\n",
    "y_pred_proba = mlp.predict_proba(X_test_vect)"
   ]
  },
  {
   "cell_type": "code",
   "execution_count": 237,
   "metadata": {},
   "outputs": [
    {
     "data": {
      "text/plain": [
       "0.29687499999999994"
      ]
     },
     "execution_count": 237,
     "metadata": {},
     "output_type": "execute_result"
    }
   ],
   "source": [
    "f1_score(y_test_mlb, y_pred, average=\"micro\")"
   ]
  },
  {
   "cell_type": "code",
   "execution_count": 238,
   "metadata": {},
   "outputs": [
    {
     "data": {
      "text/plain": [
       "0.3106060606060606"
      ]
     },
     "execution_count": 238,
     "metadata": {},
     "output_type": "execute_result"
    }
   ],
   "source": [
    "cust_metric(y_test_mlb, y_pred_proba)"
   ]
  },
  {
   "cell_type": "code",
   "execution_count": 175,
   "metadata": {},
   "outputs": [],
   "source": [
    "rf = RandomForestClassifier(random_state=0, n_estimators=200)"
   ]
  },
  {
   "cell_type": "code",
   "execution_count": 176,
   "metadata": {},
   "outputs": [
    {
     "data": {
      "text/plain": [
       "RandomForestClassifier(bootstrap=True, class_weight=None, criterion='gini',\n",
       "            max_depth=None, max_features='auto', max_leaf_nodes=None,\n",
       "            min_impurity_decrease=0.0, min_impurity_split=None,\n",
       "            min_samples_leaf=1, min_samples_split=2,\n",
       "            min_weight_fraction_leaf=0.0, n_estimators=200, n_jobs=None,\n",
       "            oob_score=False, random_state=0, verbose=0, warm_start=False)"
      ]
     },
     "execution_count": 176,
     "metadata": {},
     "output_type": "execute_result"
    }
   ],
   "source": [
    "rf.fit(X_train_vect, y_train_mlb)"
   ]
  },
  {
   "cell_type": "code",
   "execution_count": 179,
   "metadata": {},
   "outputs": [],
   "source": [
    "y_pred = rf.predict(X_test_vect)\n",
    "y_pred_proba = rf.predict_proba(X_test_vect)\n",
    "y_pred_probas_proc = np.array(y_pred_probas)\n",
    "y_pred_probas_proc = y_pred_probas_proc[:,:,1].T"
   ]
  },
  {
   "cell_type": "code",
   "execution_count": 181,
   "metadata": {},
   "outputs": [
    {
     "name": "stdout",
     "output_type": "stream",
     "text": [
      "0.03592814371257485\n"
     ]
    },
    {
     "data": {
      "text/plain": [
       "0.3333333333333333"
      ]
     },
     "execution_count": 181,
     "metadata": {},
     "output_type": "execute_result"
    }
   ],
   "source": [
    "print(f1_score(y_test_mlb, y_pred, average=\"micro\"))\n",
    "cust_metric(y_test_mlb, y_pred_probas_proc)"
   ]
  },
  {
   "cell_type": "code",
   "execution_count": 32,
   "metadata": {},
   "outputs": [
    {
     "data": {
      "text/plain": [
       "array([0, 0, 0, 0, 0, 0, 0, 0, 0, 0, 0, 0, 0, 0, 0, 0, 0, 0, 0, 0, 0, 0,\n",
       "       0, 0, 0, 0, 0, 0, 0, 0, 0, 0, 0, 0, 1, 0, 0, 0, 0, 0, 0, 0, 0])"
      ]
     },
     "execution_count": 32,
     "metadata": {},
     "output_type": "execute_result"
    }
   ],
   "source": [
    "################## TEST WITH WORD EMBEDDING ####################"
   ]
  },
  {
   "cell_type": "code",
   "execution_count": 189,
   "metadata": {},
   "outputs": [],
   "source": [
    "# Load word embedding model\n",
    "with open(\"glove.6B.100d.txt\", \"rb\") as lines:\n",
    "    w2v = {line.split()[0]: np.array(map(float, line.split()[1:]))\n",
    "           for line in lines}"
   ]
  },
  {
   "cell_type": "code",
   "execution_count": 197,
   "metadata": {},
   "outputs": [],
   "source": [
    "from collections import defaultdict\n",
    "\n",
    "class TfidfEmbeddingVectorizer(object):\n",
    "    def __init__(self, word2vec):\n",
    "        self.word2vec = word2vec\n",
    "        self.word2weight = None\n",
    "        self.dim = len(word2vec)\n",
    "\n",
    "    def fit(self, X, y):\n",
    "        tfidf = TfidfVectorizer(analyzer=lambda x: x)\n",
    "        tfidf.fit(X)\n",
    "        # if a word was never seen - it must be at least as infrequent\n",
    "        # as any of the known words - so the default idf is the max of \n",
    "        # known idf's\n",
    "        max_idf = max(tfidf.idf_)\n",
    "        self.word2weight = defaultdict(\n",
    "            lambda: max_idf,\n",
    "            [(w, tfidf.idf_[i]) for w, i in tfidf.vocabulary_.items()])\n",
    "\n",
    "        return self\n",
    "\n",
    "    def transform(self, X):\n",
    "        return np.array([\n",
    "                np.mean([self.word2vec[w] * self.word2weight[w]\n",
    "                         for w in words if w in self.word2vec] or\n",
    "                        [np.zeros(self.dim)], axis=0)\n",
    "                for words in X\n",
    "            ])"
   ]
  },
  {
   "cell_type": "code",
   "execution_count": 199,
   "metadata": {},
   "outputs": [],
   "source": [
    "tfidfemb = TfidfEmbeddingVectorizer(w2v)"
   ]
  },
  {
   "cell_type": "code",
   "execution_count": 201,
   "metadata": {},
   "outputs": [
    {
     "ename": "NameError",
     "evalue": "name 'defaultdict' is not defined",
     "output_type": "error",
     "traceback": [
      "\u001b[0;31m---------------------------------------------------------------------------\u001b[0m",
      "\u001b[0;31mNameError\u001b[0m                                 Traceback (most recent call last)",
      "\u001b[0;32m<ipython-input-201-cf7d68cf7787>\u001b[0m in \u001b[0;36m<module>\u001b[0;34m\u001b[0m\n\u001b[0;32m----> 1\u001b[0;31m \u001b[0mtfidfemb\u001b[0m\u001b[0;34m.\u001b[0m\u001b[0mfit\u001b[0m\u001b[0;34m(\u001b[0m\u001b[0mX_train\u001b[0m\u001b[0;34m,\u001b[0m \u001b[0my_train\u001b[0m\u001b[0;34m)\u001b[0m\u001b[0;34m\u001b[0m\u001b[0;34m\u001b[0m\u001b[0m\n\u001b[0m",
      "\u001b[0;32m<ipython-input-197-d4b981b78227>\u001b[0m in \u001b[0;36mfit\u001b[0;34m(self, X, y)\u001b[0m\n\u001b[1;32m     12\u001b[0m         \u001b[0;31m# known idf's\u001b[0m\u001b[0;34m\u001b[0m\u001b[0;34m\u001b[0m\u001b[0;34m\u001b[0m\u001b[0m\n\u001b[1;32m     13\u001b[0m         \u001b[0mmax_idf\u001b[0m \u001b[0;34m=\u001b[0m \u001b[0mmax\u001b[0m\u001b[0;34m(\u001b[0m\u001b[0mtfidf\u001b[0m\u001b[0;34m.\u001b[0m\u001b[0midf_\u001b[0m\u001b[0;34m)\u001b[0m\u001b[0;34m\u001b[0m\u001b[0;34m\u001b[0m\u001b[0m\n\u001b[0;32m---> 14\u001b[0;31m         self.word2weight = defaultdict(\n\u001b[0m\u001b[1;32m     15\u001b[0m             \u001b[0;32mlambda\u001b[0m\u001b[0;34m:\u001b[0m \u001b[0mmax_idf\u001b[0m\u001b[0;34m,\u001b[0m\u001b[0;34m\u001b[0m\u001b[0;34m\u001b[0m\u001b[0m\n\u001b[1;32m     16\u001b[0m             [(w, tfidf.idf_[i]) for w, i in tfidf.vocabulary_.items()])\n",
      "\u001b[0;31mNameError\u001b[0m: name 'defaultdict' is not defined"
     ]
    }
   ],
   "source": [
    "tfidfemb.fit(X_train, y_train)"
   ]
  },
  {
   "cell_type": "code",
   "execution_count": 122,
   "metadata": {},
   "outputs": [],
   "source": [
    "#### GRID SEARCH\n",
    "\n",
    "classifier = Pipeline([\n",
    "            ('tfidf', TfidfVectorizer(tokenizer=Tokenizer, min_df=.0025, max_df=0.25)),\n",
    "            ('svd', TruncatedSVD(algorithm='randomized', random_state=1)),\n",
    "            ('mlp', MLPClassifier(solver='lbfgs',hidden_layer_sizes=(100),random_state=1))\n",
    "            ])\n",
    "            \n",
    "params={'tfidf__ngram_range':[(1,3), (1,2)],\n",
    "        'svd__n_components':[60, 100, 150, 200, 300],\n",
    "        'mlp__solver':[\"lbfgs\", \"adam\"],\n",
    "        'mlp__hidden_layer_sizes':[(100), (200, 100), (100, 100)]\n",
    "        }"
   ]
  },
  {
   "cell_type": "code",
   "execution_count": 123,
   "metadata": {},
   "outputs": [
    {
     "name": "stderr",
     "output_type": "stream",
     "text": [
      "/home/mondeca/applications/anaconda3/lib/python3.7/site-packages/sklearn/neural_network/multilayer_perceptron.py:562: ConvergenceWarning: Stochastic Optimizer: Maximum iterations (200) reached and the optimization hasn't converged yet.\n",
      "  % self.max_iter, ConvergenceWarning)\n",
      "/home/mondeca/applications/anaconda3/lib/python3.7/site-packages/sklearn/neural_network/multilayer_perceptron.py:562: ConvergenceWarning: Stochastic Optimizer: Maximum iterations (200) reached and the optimization hasn't converged yet.\n",
      "  % self.max_iter, ConvergenceWarning)\n",
      "/home/mondeca/applications/anaconda3/lib/python3.7/site-packages/sklearn/neural_network/multilayer_perceptron.py:562: ConvergenceWarning: Stochastic Optimizer: Maximum iterations (200) reached and the optimization hasn't converged yet.\n",
      "  % self.max_iter, ConvergenceWarning)\n",
      "/home/mondeca/applications/anaconda3/lib/python3.7/site-packages/sklearn/metrics/classification.py:1143: UndefinedMetricWarning: F-score is ill-defined and being set to 0.0 due to no predicted samples.\n",
      "  'precision', 'predicted', average, warn_for)\n",
      "/home/mondeca/applications/anaconda3/lib/python3.7/site-packages/sklearn/neural_network/multilayer_perceptron.py:562: ConvergenceWarning: Stochastic Optimizer: Maximum iterations (200) reached and the optimization hasn't converged yet.\n",
      "  % self.max_iter, ConvergenceWarning)\n",
      "/home/mondeca/applications/anaconda3/lib/python3.7/site-packages/sklearn/neural_network/multilayer_perceptron.py:562: ConvergenceWarning: Stochastic Optimizer: Maximum iterations (200) reached and the optimization hasn't converged yet.\n",
      "  % self.max_iter, ConvergenceWarning)\n",
      "/home/mondeca/applications/anaconda3/lib/python3.7/site-packages/sklearn/metrics/classification.py:1143: UndefinedMetricWarning: F-score is ill-defined and being set to 0.0 due to no predicted samples.\n",
      "  'precision', 'predicted', average, warn_for)\n",
      "/home/mondeca/applications/anaconda3/lib/python3.7/site-packages/sklearn/neural_network/multilayer_perceptron.py:562: ConvergenceWarning: Stochastic Optimizer: Maximum iterations (200) reached and the optimization hasn't converged yet.\n",
      "  % self.max_iter, ConvergenceWarning)\n",
      "/home/mondeca/applications/anaconda3/lib/python3.7/site-packages/sklearn/neural_network/multilayer_perceptron.py:562: ConvergenceWarning: Stochastic Optimizer: Maximum iterations (200) reached and the optimization hasn't converged yet.\n",
      "  % self.max_iter, ConvergenceWarning)\n",
      "/home/mondeca/applications/anaconda3/lib/python3.7/site-packages/sklearn/metrics/classification.py:1143: UndefinedMetricWarning: F-score is ill-defined and being set to 0.0 due to no predicted samples.\n",
      "  'precision', 'predicted', average, warn_for)\n",
      "/home/mondeca/applications/anaconda3/lib/python3.7/site-packages/sklearn/neural_network/multilayer_perceptron.py:562: ConvergenceWarning: Stochastic Optimizer: Maximum iterations (200) reached and the optimization hasn't converged yet.\n",
      "  % self.max_iter, ConvergenceWarning)\n",
      "/home/mondeca/applications/anaconda3/lib/python3.7/site-packages/sklearn/metrics/classification.py:1143: UndefinedMetricWarning: F-score is ill-defined and being set to 0.0 due to no predicted samples.\n",
      "  'precision', 'predicted', average, warn_for)\n",
      "/home/mondeca/applications/anaconda3/lib/python3.7/site-packages/sklearn/neural_network/multilayer_perceptron.py:562: ConvergenceWarning: Stochastic Optimizer: Maximum iterations (200) reached and the optimization hasn't converged yet.\n",
      "  % self.max_iter, ConvergenceWarning)\n",
      "/home/mondeca/applications/anaconda3/lib/python3.7/site-packages/sklearn/metrics/classification.py:1143: UndefinedMetricWarning: F-score is ill-defined and being set to 0.0 due to no predicted samples.\n",
      "  'precision', 'predicted', average, warn_for)\n",
      "/home/mondeca/applications/anaconda3/lib/python3.7/site-packages/sklearn/neural_network/multilayer_perceptron.py:562: ConvergenceWarning: Stochastic Optimizer: Maximum iterations (200) reached and the optimization hasn't converged yet.\n",
      "  % self.max_iter, ConvergenceWarning)\n",
      "/home/mondeca/applications/anaconda3/lib/python3.7/site-packages/sklearn/neural_network/multilayer_perceptron.py:562: ConvergenceWarning: Stochastic Optimizer: Maximum iterations (200) reached and the optimization hasn't converged yet.\n",
      "  % self.max_iter, ConvergenceWarning)\n",
      "/home/mondeca/applications/anaconda3/lib/python3.7/site-packages/sklearn/metrics/classification.py:1143: UndefinedMetricWarning: F-score is ill-defined and being set to 0.0 due to no predicted samples.\n",
      "  'precision', 'predicted', average, warn_for)\n",
      "/home/mondeca/applications/anaconda3/lib/python3.7/site-packages/sklearn/neural_network/multilayer_perceptron.py:562: ConvergenceWarning: Stochastic Optimizer: Maximum iterations (200) reached and the optimization hasn't converged yet.\n",
      "  % self.max_iter, ConvergenceWarning)\n",
      "/home/mondeca/applications/anaconda3/lib/python3.7/site-packages/sklearn/neural_network/multilayer_perceptron.py:562: ConvergenceWarning: Stochastic Optimizer: Maximum iterations (200) reached and the optimization hasn't converged yet.\n",
      "  % self.max_iter, ConvergenceWarning)\n",
      "/home/mondeca/applications/anaconda3/lib/python3.7/site-packages/sklearn/metrics/classification.py:1143: UndefinedMetricWarning: F-score is ill-defined and being set to 0.0 due to no predicted samples.\n",
      "  'precision', 'predicted', average, warn_for)\n",
      "/home/mondeca/applications/anaconda3/lib/python3.7/site-packages/sklearn/neural_network/multilayer_perceptron.py:562: ConvergenceWarning: Stochastic Optimizer: Maximum iterations (200) reached and the optimization hasn't converged yet.\n",
      "  % self.max_iter, ConvergenceWarning)\n",
      "/home/mondeca/applications/anaconda3/lib/python3.7/site-packages/sklearn/neural_network/multilayer_perceptron.py:562: ConvergenceWarning: Stochastic Optimizer: Maximum iterations (200) reached and the optimization hasn't converged yet.\n",
      "  % self.max_iter, ConvergenceWarning)\n",
      "/home/mondeca/applications/anaconda3/lib/python3.7/site-packages/sklearn/metrics/classification.py:1143: UndefinedMetricWarning: F-score is ill-defined and being set to 0.0 due to no predicted samples.\n",
      "  'precision', 'predicted', average, warn_for)\n",
      "/home/mondeca/applications/anaconda3/lib/python3.7/site-packages/sklearn/neural_network/multilayer_perceptron.py:562: ConvergenceWarning: Stochastic Optimizer: Maximum iterations (200) reached and the optimization hasn't converged yet.\n",
      "  % self.max_iter, ConvergenceWarning)\n",
      "/home/mondeca/applications/anaconda3/lib/python3.7/site-packages/sklearn/metrics/classification.py:1143: UndefinedMetricWarning: F-score is ill-defined and being set to 0.0 due to no predicted samples.\n",
      "  'precision', 'predicted', average, warn_for)\n",
      "/home/mondeca/applications/anaconda3/lib/python3.7/site-packages/sklearn/neural_network/multilayer_perceptron.py:562: ConvergenceWarning: Stochastic Optimizer: Maximum iterations (200) reached and the optimization hasn't converged yet.\n",
      "  % self.max_iter, ConvergenceWarning)\n",
      "/home/mondeca/applications/anaconda3/lib/python3.7/site-packages/sklearn/metrics/classification.py:1143: UndefinedMetricWarning: F-score is ill-defined and being set to 0.0 due to no predicted samples.\n",
      "  'precision', 'predicted', average, warn_for)\n",
      "/home/mondeca/applications/anaconda3/lib/python3.7/site-packages/sklearn/neural_network/multilayer_perceptron.py:562: ConvergenceWarning: Stochastic Optimizer: Maximum iterations (200) reached and the optimization hasn't converged yet.\n",
      "  % self.max_iter, ConvergenceWarning)\n",
      "/home/mondeca/applications/anaconda3/lib/python3.7/site-packages/sklearn/neural_network/multilayer_perceptron.py:562: ConvergenceWarning: Stochastic Optimizer: Maximum iterations (200) reached and the optimization hasn't converged yet.\n",
      "  % self.max_iter, ConvergenceWarning)\n",
      "/home/mondeca/applications/anaconda3/lib/python3.7/site-packages/sklearn/metrics/classification.py:1143: UndefinedMetricWarning: F-score is ill-defined and being set to 0.0 due to no predicted samples.\n",
      "  'precision', 'predicted', average, warn_for)\n",
      "/home/mondeca/applications/anaconda3/lib/python3.7/site-packages/sklearn/neural_network/multilayer_perceptron.py:562: ConvergenceWarning: Stochastic Optimizer: Maximum iterations (200) reached and the optimization hasn't converged yet.\n",
      "  % self.max_iter, ConvergenceWarning)\n",
      "/home/mondeca/applications/anaconda3/lib/python3.7/site-packages/sklearn/neural_network/multilayer_perceptron.py:562: ConvergenceWarning: Stochastic Optimizer: Maximum iterations (200) reached and the optimization hasn't converged yet.\n",
      "  % self.max_iter, ConvergenceWarning)\n",
      "/home/mondeca/applications/anaconda3/lib/python3.7/site-packages/sklearn/metrics/classification.py:1143: UndefinedMetricWarning: F-score is ill-defined and being set to 0.0 due to no predicted samples.\n",
      "  'precision', 'predicted', average, warn_for)\n",
      "/home/mondeca/applications/anaconda3/lib/python3.7/site-packages/sklearn/neural_network/multilayer_perceptron.py:562: ConvergenceWarning: Stochastic Optimizer: Maximum iterations (200) reached and the optimization hasn't converged yet.\n",
      "  % self.max_iter, ConvergenceWarning)\n",
      "/home/mondeca/applications/anaconda3/lib/python3.7/site-packages/sklearn/neural_network/multilayer_perceptron.py:562: ConvergenceWarning: Stochastic Optimizer: Maximum iterations (200) reached and the optimization hasn't converged yet.\n",
      "  % self.max_iter, ConvergenceWarning)\n",
      "/home/mondeca/applications/anaconda3/lib/python3.7/site-packages/sklearn/metrics/classification.py:1143: UndefinedMetricWarning: F-score is ill-defined and being set to 0.0 due to no predicted samples.\n",
      "  'precision', 'predicted', average, warn_for)\n",
      "/home/mondeca/applications/anaconda3/lib/python3.7/site-packages/sklearn/neural_network/multilayer_perceptron.py:562: ConvergenceWarning: Stochastic Optimizer: Maximum iterations (200) reached and the optimization hasn't converged yet.\n",
      "  % self.max_iter, ConvergenceWarning)\n",
      "/home/mondeca/applications/anaconda3/lib/python3.7/site-packages/sklearn/metrics/classification.py:1143: UndefinedMetricWarning: F-score is ill-defined and being set to 0.0 due to no predicted samples.\n",
      "  'precision', 'predicted', average, warn_for)\n",
      "/home/mondeca/applications/anaconda3/lib/python3.7/site-packages/sklearn/neural_network/multilayer_perceptron.py:562: ConvergenceWarning: Stochastic Optimizer: Maximum iterations (200) reached and the optimization hasn't converged yet.\n",
      "  % self.max_iter, ConvergenceWarning)\n",
      "/home/mondeca/applications/anaconda3/lib/python3.7/site-packages/sklearn/metrics/classification.py:1143: UndefinedMetricWarning: F-score is ill-defined and being set to 0.0 due to no predicted samples.\n",
      "  'precision', 'predicted', average, warn_for)\n",
      "/home/mondeca/applications/anaconda3/lib/python3.7/site-packages/sklearn/neural_network/multilayer_perceptron.py:562: ConvergenceWarning: Stochastic Optimizer: Maximum iterations (200) reached and the optimization hasn't converged yet.\n",
      "  % self.max_iter, ConvergenceWarning)\n",
      "/home/mondeca/applications/anaconda3/lib/python3.7/site-packages/sklearn/neural_network/multilayer_perceptron.py:562: ConvergenceWarning: Stochastic Optimizer: Maximum iterations (200) reached and the optimization hasn't converged yet.\n",
      "  % self.max_iter, ConvergenceWarning)\n",
      "/home/mondeca/applications/anaconda3/lib/python3.7/site-packages/sklearn/metrics/classification.py:1143: UndefinedMetricWarning: F-score is ill-defined and being set to 0.0 due to no predicted samples.\n",
      "  'precision', 'predicted', average, warn_for)\n",
      "/home/mondeca/applications/anaconda3/lib/python3.7/site-packages/sklearn/neural_network/multilayer_perceptron.py:562: ConvergenceWarning: Stochastic Optimizer: Maximum iterations (200) reached and the optimization hasn't converged yet.\n",
      "  % self.max_iter, ConvergenceWarning)\n",
      "/home/mondeca/applications/anaconda3/lib/python3.7/site-packages/sklearn/metrics/classification.py:1143: UndefinedMetricWarning: F-score is ill-defined and being set to 0.0 due to no predicted samples.\n",
      "  'precision', 'predicted', average, warn_for)\n",
      "/home/mondeca/applications/anaconda3/lib/python3.7/site-packages/sklearn/neural_network/multilayer_perceptron.py:562: ConvergenceWarning: Stochastic Optimizer: Maximum iterations (200) reached and the optimization hasn't converged yet.\n",
      "  % self.max_iter, ConvergenceWarning)\n",
      "/home/mondeca/applications/anaconda3/lib/python3.7/site-packages/sklearn/metrics/classification.py:1143: UndefinedMetricWarning: F-score is ill-defined and being set to 0.0 due to no predicted samples.\n",
      "  'precision', 'predicted', average, warn_for)\n",
      "/home/mondeca/applications/anaconda3/lib/python3.7/site-packages/sklearn/neural_network/multilayer_perceptron.py:562: ConvergenceWarning: Stochastic Optimizer: Maximum iterations (200) reached and the optimization hasn't converged yet.\n",
      "  % self.max_iter, ConvergenceWarning)\n",
      "/home/mondeca/applications/anaconda3/lib/python3.7/site-packages/sklearn/neural_network/multilayer_perceptron.py:562: ConvergenceWarning: Stochastic Optimizer: Maximum iterations (200) reached and the optimization hasn't converged yet.\n",
      "  % self.max_iter, ConvergenceWarning)\n",
      "/home/mondeca/applications/anaconda3/lib/python3.7/site-packages/sklearn/metrics/classification.py:1143: UndefinedMetricWarning: F-score is ill-defined and being set to 0.0 due to no predicted samples.\n",
      "  'precision', 'predicted', average, warn_for)\n",
      "/home/mondeca/applications/anaconda3/lib/python3.7/site-packages/sklearn/neural_network/multilayer_perceptron.py:562: ConvergenceWarning: Stochastic Optimizer: Maximum iterations (200) reached and the optimization hasn't converged yet.\n",
      "  % self.max_iter, ConvergenceWarning)\n",
      "/home/mondeca/applications/anaconda3/lib/python3.7/site-packages/sklearn/metrics/classification.py:1143: UndefinedMetricWarning: F-score is ill-defined and being set to 0.0 due to no predicted samples.\n",
      "  'precision', 'predicted', average, warn_for)\n",
      "/home/mondeca/applications/anaconda3/lib/python3.7/site-packages/sklearn/neural_network/multilayer_perceptron.py:562: ConvergenceWarning: Stochastic Optimizer: Maximum iterations (200) reached and the optimization hasn't converged yet.\n",
      "  % self.max_iter, ConvergenceWarning)\n",
      "/home/mondeca/applications/anaconda3/lib/python3.7/site-packages/sklearn/neural_network/multilayer_perceptron.py:562: ConvergenceWarning: Stochastic Optimizer: Maximum iterations (200) reached and the optimization hasn't converged yet.\n",
      "  % self.max_iter, ConvergenceWarning)\n",
      "/home/mondeca/applications/anaconda3/lib/python3.7/site-packages/sklearn/neural_network/multilayer_perceptron.py:562: ConvergenceWarning: Stochastic Optimizer: Maximum iterations (200) reached and the optimization hasn't converged yet.\n",
      "  % self.max_iter, ConvergenceWarning)\n",
      "/home/mondeca/applications/anaconda3/lib/python3.7/site-packages/sklearn/neural_network/multilayer_perceptron.py:562: ConvergenceWarning: Stochastic Optimizer: Maximum iterations (200) reached and the optimization hasn't converged yet.\n",
      "  % self.max_iter, ConvergenceWarning)\n",
      "/home/mondeca/applications/anaconda3/lib/python3.7/site-packages/sklearn/metrics/classification.py:1143: UndefinedMetricWarning: F-score is ill-defined and being set to 0.0 due to no predicted samples.\n",
      "  'precision', 'predicted', average, warn_for)\n",
      "/home/mondeca/applications/anaconda3/lib/python3.7/site-packages/sklearn/neural_network/multilayer_perceptron.py:562: ConvergenceWarning: Stochastic Optimizer: Maximum iterations (200) reached and the optimization hasn't converged yet.\n",
      "  % self.max_iter, ConvergenceWarning)\n",
      "/home/mondeca/applications/anaconda3/lib/python3.7/site-packages/sklearn/neural_network/multilayer_perceptron.py:562: ConvergenceWarning: Stochastic Optimizer: Maximum iterations (200) reached and the optimization hasn't converged yet.\n",
      "  % self.max_iter, ConvergenceWarning)\n",
      "/home/mondeca/applications/anaconda3/lib/python3.7/site-packages/sklearn/neural_network/multilayer_perceptron.py:562: ConvergenceWarning: Stochastic Optimizer: Maximum iterations (200) reached and the optimization hasn't converged yet.\n",
      "  % self.max_iter, ConvergenceWarning)\n",
      "/home/mondeca/applications/anaconda3/lib/python3.7/site-packages/sklearn/metrics/classification.py:1143: UndefinedMetricWarning: F-score is ill-defined and being set to 0.0 due to no predicted samples.\n",
      "  'precision', 'predicted', average, warn_for)\n",
      "/home/mondeca/applications/anaconda3/lib/python3.7/site-packages/sklearn/neural_network/multilayer_perceptron.py:562: ConvergenceWarning: Stochastic Optimizer: Maximum iterations (200) reached and the optimization hasn't converged yet.\n",
      "  % self.max_iter, ConvergenceWarning)\n",
      "/home/mondeca/applications/anaconda3/lib/python3.7/site-packages/sklearn/metrics/classification.py:1143: UndefinedMetricWarning: F-score is ill-defined and being set to 0.0 due to no predicted samples.\n",
      "  'precision', 'predicted', average, warn_for)\n",
      "/home/mondeca/applications/anaconda3/lib/python3.7/site-packages/sklearn/neural_network/multilayer_perceptron.py:562: ConvergenceWarning: Stochastic Optimizer: Maximum iterations (200) reached and the optimization hasn't converged yet.\n",
      "  % self.max_iter, ConvergenceWarning)\n",
      "/home/mondeca/applications/anaconda3/lib/python3.7/site-packages/sklearn/neural_network/multilayer_perceptron.py:562: ConvergenceWarning: Stochastic Optimizer: Maximum iterations (200) reached and the optimization hasn't converged yet.\n",
      "  % self.max_iter, ConvergenceWarning)\n",
      "/home/mondeca/applications/anaconda3/lib/python3.7/site-packages/sklearn/neural_network/multilayer_perceptron.py:562: ConvergenceWarning: Stochastic Optimizer: Maximum iterations (200) reached and the optimization hasn't converged yet.\n",
      "  % self.max_iter, ConvergenceWarning)\n",
      "/home/mondeca/applications/anaconda3/lib/python3.7/site-packages/sklearn/neural_network/multilayer_perceptron.py:562: ConvergenceWarning: Stochastic Optimizer: Maximum iterations (200) reached and the optimization hasn't converged yet.\n",
      "  % self.max_iter, ConvergenceWarning)\n",
      "/home/mondeca/applications/anaconda3/lib/python3.7/site-packages/sklearn/neural_network/multilayer_perceptron.py:562: ConvergenceWarning: Stochastic Optimizer: Maximum iterations (200) reached and the optimization hasn't converged yet.\n",
      "  % self.max_iter, ConvergenceWarning)\n",
      "/home/mondeca/applications/anaconda3/lib/python3.7/site-packages/sklearn/neural_network/multilayer_perceptron.py:562: ConvergenceWarning: Stochastic Optimizer: Maximum iterations (200) reached and the optimization hasn't converged yet.\n",
      "  % self.max_iter, ConvergenceWarning)\n",
      "/home/mondeca/applications/anaconda3/lib/python3.7/site-packages/sklearn/neural_network/multilayer_perceptron.py:562: ConvergenceWarning: Stochastic Optimizer: Maximum iterations (200) reached and the optimization hasn't converged yet.\n",
      "  % self.max_iter, ConvergenceWarning)\n",
      "/home/mondeca/applications/anaconda3/lib/python3.7/site-packages/sklearn/neural_network/multilayer_perceptron.py:562: ConvergenceWarning: Stochastic Optimizer: Maximum iterations (200) reached and the optimization hasn't converged yet.\n",
      "  % self.max_iter, ConvergenceWarning)\n",
      "/home/mondeca/applications/anaconda3/lib/python3.7/site-packages/sklearn/neural_network/multilayer_perceptron.py:562: ConvergenceWarning: Stochastic Optimizer: Maximum iterations (200) reached and the optimization hasn't converged yet.\n",
      "  % self.max_iter, ConvergenceWarning)\n",
      "/home/mondeca/applications/anaconda3/lib/python3.7/site-packages/sklearn/neural_network/multilayer_perceptron.py:562: ConvergenceWarning: Stochastic Optimizer: Maximum iterations (200) reached and the optimization hasn't converged yet.\n",
      "  % self.max_iter, ConvergenceWarning)\n",
      "/home/mondeca/applications/anaconda3/lib/python3.7/site-packages/sklearn/neural_network/multilayer_perceptron.py:562: ConvergenceWarning: Stochastic Optimizer: Maximum iterations (200) reached and the optimization hasn't converged yet.\n",
      "  % self.max_iter, ConvergenceWarning)\n",
      "/home/mondeca/applications/anaconda3/lib/python3.7/site-packages/sklearn/neural_network/multilayer_perceptron.py:562: ConvergenceWarning: Stochastic Optimizer: Maximum iterations (200) reached and the optimization hasn't converged yet.\n",
      "  % self.max_iter, ConvergenceWarning)\n",
      "/home/mondeca/applications/anaconda3/lib/python3.7/site-packages/sklearn/neural_network/multilayer_perceptron.py:562: ConvergenceWarning: Stochastic Optimizer: Maximum iterations (200) reached and the optimization hasn't converged yet.\n",
      "  % self.max_iter, ConvergenceWarning)\n",
      "/home/mondeca/applications/anaconda3/lib/python3.7/site-packages/sklearn/neural_network/multilayer_perceptron.py:562: ConvergenceWarning: Stochastic Optimizer: Maximum iterations (200) reached and the optimization hasn't converged yet.\n",
      "  % self.max_iter, ConvergenceWarning)\n",
      "/home/mondeca/applications/anaconda3/lib/python3.7/site-packages/sklearn/neural_network/multilayer_perceptron.py:562: ConvergenceWarning: Stochastic Optimizer: Maximum iterations (200) reached and the optimization hasn't converged yet.\n",
      "  % self.max_iter, ConvergenceWarning)\n",
      "/home/mondeca/applications/anaconda3/lib/python3.7/site-packages/sklearn/neural_network/multilayer_perceptron.py:562: ConvergenceWarning: Stochastic Optimizer: Maximum iterations (200) reached and the optimization hasn't converged yet.\n",
      "  % self.max_iter, ConvergenceWarning)\n",
      "/home/mondeca/applications/anaconda3/lib/python3.7/site-packages/sklearn/neural_network/multilayer_perceptron.py:562: ConvergenceWarning: Stochastic Optimizer: Maximum iterations (200) reached and the optimization hasn't converged yet.\n",
      "  % self.max_iter, ConvergenceWarning)\n",
      "/home/mondeca/applications/anaconda3/lib/python3.7/site-packages/sklearn/neural_network/multilayer_perceptron.py:562: ConvergenceWarning: Stochastic Optimizer: Maximum iterations (200) reached and the optimization hasn't converged yet.\n",
      "  % self.max_iter, ConvergenceWarning)\n",
      "/home/mondeca/applications/anaconda3/lib/python3.7/site-packages/sklearn/neural_network/multilayer_perceptron.py:562: ConvergenceWarning: Stochastic Optimizer: Maximum iterations (200) reached and the optimization hasn't converged yet.\n",
      "  % self.max_iter, ConvergenceWarning)\n",
      "/home/mondeca/applications/anaconda3/lib/python3.7/site-packages/sklearn/neural_network/multilayer_perceptron.py:562: ConvergenceWarning: Stochastic Optimizer: Maximum iterations (200) reached and the optimization hasn't converged yet.\n",
      "  % self.max_iter, ConvergenceWarning)\n",
      "/home/mondeca/applications/anaconda3/lib/python3.7/site-packages/sklearn/neural_network/multilayer_perceptron.py:562: ConvergenceWarning: Stochastic Optimizer: Maximum iterations (200) reached and the optimization hasn't converged yet.\n",
      "  % self.max_iter, ConvergenceWarning)\n",
      "/home/mondeca/applications/anaconda3/lib/python3.7/site-packages/sklearn/neural_network/multilayer_perceptron.py:562: ConvergenceWarning: Stochastic Optimizer: Maximum iterations (200) reached and the optimization hasn't converged yet.\n",
      "  % self.max_iter, ConvergenceWarning)\n",
      "/home/mondeca/applications/anaconda3/lib/python3.7/site-packages/sklearn/neural_network/multilayer_perceptron.py:562: ConvergenceWarning: Stochastic Optimizer: Maximum iterations (200) reached and the optimization hasn't converged yet.\n",
      "  % self.max_iter, ConvergenceWarning)\n",
      "/home/mondeca/applications/anaconda3/lib/python3.7/site-packages/sklearn/neural_network/multilayer_perceptron.py:562: ConvergenceWarning: Stochastic Optimizer: Maximum iterations (200) reached and the optimization hasn't converged yet.\n",
      "  % self.max_iter, ConvergenceWarning)\n",
      "/home/mondeca/applications/anaconda3/lib/python3.7/site-packages/sklearn/neural_network/multilayer_perceptron.py:562: ConvergenceWarning: Stochastic Optimizer: Maximum iterations (200) reached and the optimization hasn't converged yet.\n",
      "  % self.max_iter, ConvergenceWarning)\n",
      "/home/mondeca/applications/anaconda3/lib/python3.7/site-packages/sklearn/neural_network/multilayer_perceptron.py:562: ConvergenceWarning: Stochastic Optimizer: Maximum iterations (200) reached and the optimization hasn't converged yet.\n",
      "  % self.max_iter, ConvergenceWarning)\n",
      "/home/mondeca/applications/anaconda3/lib/python3.7/site-packages/sklearn/neural_network/multilayer_perceptron.py:562: ConvergenceWarning: Stochastic Optimizer: Maximum iterations (200) reached and the optimization hasn't converged yet.\n",
      "  % self.max_iter, ConvergenceWarning)\n",
      "/home/mondeca/applications/anaconda3/lib/python3.7/site-packages/sklearn/neural_network/multilayer_perceptron.py:562: ConvergenceWarning: Stochastic Optimizer: Maximum iterations (200) reached and the optimization hasn't converged yet.\n",
      "  % self.max_iter, ConvergenceWarning)\n",
      "/home/mondeca/applications/anaconda3/lib/python3.7/site-packages/sklearn/neural_network/multilayer_perceptron.py:562: ConvergenceWarning: Stochastic Optimizer: Maximum iterations (200) reached and the optimization hasn't converged yet.\n",
      "  % self.max_iter, ConvergenceWarning)\n",
      "/home/mondeca/applications/anaconda3/lib/python3.7/site-packages/sklearn/neural_network/multilayer_perceptron.py:562: ConvergenceWarning: Stochastic Optimizer: Maximum iterations (200) reached and the optimization hasn't converged yet.\n",
      "  % self.max_iter, ConvergenceWarning)\n",
      "/home/mondeca/applications/anaconda3/lib/python3.7/site-packages/sklearn/neural_network/multilayer_perceptron.py:562: ConvergenceWarning: Stochastic Optimizer: Maximum iterations (200) reached and the optimization hasn't converged yet.\n",
      "  % self.max_iter, ConvergenceWarning)\n",
      "/home/mondeca/applications/anaconda3/lib/python3.7/site-packages/sklearn/neural_network/multilayer_perceptron.py:562: ConvergenceWarning: Stochastic Optimizer: Maximum iterations (200) reached and the optimization hasn't converged yet.\n",
      "  % self.max_iter, ConvergenceWarning)\n",
      "/home/mondeca/applications/anaconda3/lib/python3.7/site-packages/sklearn/neural_network/multilayer_perceptron.py:562: ConvergenceWarning: Stochastic Optimizer: Maximum iterations (200) reached and the optimization hasn't converged yet.\n",
      "  % self.max_iter, ConvergenceWarning)\n",
      "/home/mondeca/applications/anaconda3/lib/python3.7/site-packages/sklearn/neural_network/multilayer_perceptron.py:562: ConvergenceWarning: Stochastic Optimizer: Maximum iterations (200) reached and the optimization hasn't converged yet.\n",
      "  % self.max_iter, ConvergenceWarning)\n",
      "/home/mondeca/applications/anaconda3/lib/python3.7/site-packages/sklearn/neural_network/multilayer_perceptron.py:562: ConvergenceWarning: Stochastic Optimizer: Maximum iterations (200) reached and the optimization hasn't converged yet.\n",
      "  % self.max_iter, ConvergenceWarning)\n",
      "/home/mondeca/applications/anaconda3/lib/python3.7/site-packages/sklearn/neural_network/multilayer_perceptron.py:562: ConvergenceWarning: Stochastic Optimizer: Maximum iterations (200) reached and the optimization hasn't converged yet.\n",
      "  % self.max_iter, ConvergenceWarning)\n",
      "/home/mondeca/applications/anaconda3/lib/python3.7/site-packages/sklearn/neural_network/multilayer_perceptron.py:562: ConvergenceWarning: Stochastic Optimizer: Maximum iterations (200) reached and the optimization hasn't converged yet.\n",
      "  % self.max_iter, ConvergenceWarning)\n",
      "/home/mondeca/applications/anaconda3/lib/python3.7/site-packages/sklearn/neural_network/multilayer_perceptron.py:562: ConvergenceWarning: Stochastic Optimizer: Maximum iterations (200) reached and the optimization hasn't converged yet.\n",
      "  % self.max_iter, ConvergenceWarning)\n",
      "/home/mondeca/applications/anaconda3/lib/python3.7/site-packages/sklearn/neural_network/multilayer_perceptron.py:562: ConvergenceWarning: Stochastic Optimizer: Maximum iterations (200) reached and the optimization hasn't converged yet.\n",
      "  % self.max_iter, ConvergenceWarning)\n",
      "/home/mondeca/applications/anaconda3/lib/python3.7/site-packages/sklearn/neural_network/multilayer_perceptron.py:562: ConvergenceWarning: Stochastic Optimizer: Maximum iterations (200) reached and the optimization hasn't converged yet.\n",
      "  % self.max_iter, ConvergenceWarning)\n",
      "/home/mondeca/applications/anaconda3/lib/python3.7/site-packages/sklearn/neural_network/multilayer_perceptron.py:562: ConvergenceWarning: Stochastic Optimizer: Maximum iterations (200) reached and the optimization hasn't converged yet.\n",
      "  % self.max_iter, ConvergenceWarning)\n",
      "/home/mondeca/applications/anaconda3/lib/python3.7/site-packages/sklearn/neural_network/multilayer_perceptron.py:562: ConvergenceWarning: Stochastic Optimizer: Maximum iterations (200) reached and the optimization hasn't converged yet.\n",
      "  % self.max_iter, ConvergenceWarning)\n",
      "/home/mondeca/applications/anaconda3/lib/python3.7/site-packages/sklearn/neural_network/multilayer_perceptron.py:562: ConvergenceWarning: Stochastic Optimizer: Maximum iterations (200) reached and the optimization hasn't converged yet.\n",
      "  % self.max_iter, ConvergenceWarning)\n",
      "/home/mondeca/applications/anaconda3/lib/python3.7/site-packages/sklearn/neural_network/multilayer_perceptron.py:562: ConvergenceWarning: Stochastic Optimizer: Maximum iterations (200) reached and the optimization hasn't converged yet.\n",
      "  % self.max_iter, ConvergenceWarning)\n",
      "/home/mondeca/applications/anaconda3/lib/python3.7/site-packages/sklearn/neural_network/multilayer_perceptron.py:562: ConvergenceWarning: Stochastic Optimizer: Maximum iterations (200) reached and the optimization hasn't converged yet.\n",
      "  % self.max_iter, ConvergenceWarning)\n",
      "/home/mondeca/applications/anaconda3/lib/python3.7/site-packages/sklearn/neural_network/multilayer_perceptron.py:562: ConvergenceWarning: Stochastic Optimizer: Maximum iterations (200) reached and the optimization hasn't converged yet.\n",
      "  % self.max_iter, ConvergenceWarning)\n",
      "/home/mondeca/applications/anaconda3/lib/python3.7/site-packages/sklearn/neural_network/multilayer_perceptron.py:562: ConvergenceWarning: Stochastic Optimizer: Maximum iterations (200) reached and the optimization hasn't converged yet.\n",
      "  % self.max_iter, ConvergenceWarning)\n",
      "/home/mondeca/applications/anaconda3/lib/python3.7/site-packages/sklearn/neural_network/multilayer_perceptron.py:562: ConvergenceWarning: Stochastic Optimizer: Maximum iterations (200) reached and the optimization hasn't converged yet.\n",
      "  % self.max_iter, ConvergenceWarning)\n",
      "/home/mondeca/applications/anaconda3/lib/python3.7/site-packages/sklearn/neural_network/multilayer_perceptron.py:562: ConvergenceWarning: Stochastic Optimizer: Maximum iterations (200) reached and the optimization hasn't converged yet.\n",
      "  % self.max_iter, ConvergenceWarning)\n",
      "/home/mondeca/applications/anaconda3/lib/python3.7/site-packages/sklearn/neural_network/multilayer_perceptron.py:562: ConvergenceWarning: Stochastic Optimizer: Maximum iterations (200) reached and the optimization hasn't converged yet.\n",
      "  % self.max_iter, ConvergenceWarning)\n",
      "/home/mondeca/applications/anaconda3/lib/python3.7/site-packages/sklearn/neural_network/multilayer_perceptron.py:562: ConvergenceWarning: Stochastic Optimizer: Maximum iterations (200) reached and the optimization hasn't converged yet.\n",
      "  % self.max_iter, ConvergenceWarning)\n",
      "/home/mondeca/applications/anaconda3/lib/python3.7/site-packages/sklearn/neural_network/multilayer_perceptron.py:562: ConvergenceWarning: Stochastic Optimizer: Maximum iterations (200) reached and the optimization hasn't converged yet.\n",
      "  % self.max_iter, ConvergenceWarning)\n",
      "/home/mondeca/applications/anaconda3/lib/python3.7/site-packages/sklearn/neural_network/multilayer_perceptron.py:562: ConvergenceWarning: Stochastic Optimizer: Maximum iterations (200) reached and the optimization hasn't converged yet.\n",
      "  % self.max_iter, ConvergenceWarning)\n",
      "/home/mondeca/applications/anaconda3/lib/python3.7/site-packages/sklearn/neural_network/multilayer_perceptron.py:562: ConvergenceWarning: Stochastic Optimizer: Maximum iterations (200) reached and the optimization hasn't converged yet.\n",
      "  % self.max_iter, ConvergenceWarning)\n",
      "/home/mondeca/applications/anaconda3/lib/python3.7/site-packages/sklearn/neural_network/multilayer_perceptron.py:562: ConvergenceWarning: Stochastic Optimizer: Maximum iterations (200) reached and the optimization hasn't converged yet.\n",
      "  % self.max_iter, ConvergenceWarning)\n",
      "/home/mondeca/applications/anaconda3/lib/python3.7/site-packages/sklearn/neural_network/multilayer_perceptron.py:562: ConvergenceWarning: Stochastic Optimizer: Maximum iterations (200) reached and the optimization hasn't converged yet.\n",
      "  % self.max_iter, ConvergenceWarning)\n",
      "/home/mondeca/applications/anaconda3/lib/python3.7/site-packages/sklearn/neural_network/multilayer_perceptron.py:562: ConvergenceWarning: Stochastic Optimizer: Maximum iterations (200) reached and the optimization hasn't converged yet.\n",
      "  % self.max_iter, ConvergenceWarning)\n",
      "/home/mondeca/applications/anaconda3/lib/python3.7/site-packages/sklearn/neural_network/multilayer_perceptron.py:562: ConvergenceWarning: Stochastic Optimizer: Maximum iterations (200) reached and the optimization hasn't converged yet.\n",
      "  % self.max_iter, ConvergenceWarning)\n",
      "/home/mondeca/applications/anaconda3/lib/python3.7/site-packages/sklearn/neural_network/multilayer_perceptron.py:562: ConvergenceWarning: Stochastic Optimizer: Maximum iterations (200) reached and the optimization hasn't converged yet.\n",
      "  % self.max_iter, ConvergenceWarning)\n",
      "/home/mondeca/applications/anaconda3/lib/python3.7/site-packages/sklearn/neural_network/multilayer_perceptron.py:562: ConvergenceWarning: Stochastic Optimizer: Maximum iterations (200) reached and the optimization hasn't converged yet.\n",
      "  % self.max_iter, ConvergenceWarning)\n",
      "/home/mondeca/applications/anaconda3/lib/python3.7/site-packages/sklearn/neural_network/multilayer_perceptron.py:562: ConvergenceWarning: Stochastic Optimizer: Maximum iterations (200) reached and the optimization hasn't converged yet.\n",
      "  % self.max_iter, ConvergenceWarning)\n",
      "/home/mondeca/applications/anaconda3/lib/python3.7/site-packages/sklearn/neural_network/multilayer_perceptron.py:562: ConvergenceWarning: Stochastic Optimizer: Maximum iterations (200) reached and the optimization hasn't converged yet.\n",
      "  % self.max_iter, ConvergenceWarning)\n",
      "/home/mondeca/applications/anaconda3/lib/python3.7/site-packages/sklearn/neural_network/multilayer_perceptron.py:562: ConvergenceWarning: Stochastic Optimizer: Maximum iterations (200) reached and the optimization hasn't converged yet.\n",
      "  % self.max_iter, ConvergenceWarning)\n",
      "/home/mondeca/applications/anaconda3/lib/python3.7/site-packages/sklearn/neural_network/multilayer_perceptron.py:562: ConvergenceWarning: Stochastic Optimizer: Maximum iterations (200) reached and the optimization hasn't converged yet.\n",
      "  % self.max_iter, ConvergenceWarning)\n",
      "/home/mondeca/applications/anaconda3/lib/python3.7/site-packages/sklearn/neural_network/multilayer_perceptron.py:562: ConvergenceWarning: Stochastic Optimizer: Maximum iterations (200) reached and the optimization hasn't converged yet.\n",
      "  % self.max_iter, ConvergenceWarning)\n",
      "/home/mondeca/applications/anaconda3/lib/python3.7/site-packages/sklearn/neural_network/multilayer_perceptron.py:562: ConvergenceWarning: Stochastic Optimizer: Maximum iterations (200) reached and the optimization hasn't converged yet.\n",
      "  % self.max_iter, ConvergenceWarning)\n",
      "/home/mondeca/applications/anaconda3/lib/python3.7/site-packages/sklearn/neural_network/multilayer_perceptron.py:562: ConvergenceWarning: Stochastic Optimizer: Maximum iterations (200) reached and the optimization hasn't converged yet.\n",
      "  % self.max_iter, ConvergenceWarning)\n",
      "/home/mondeca/applications/anaconda3/lib/python3.7/site-packages/sklearn/neural_network/multilayer_perceptron.py:562: ConvergenceWarning: Stochastic Optimizer: Maximum iterations (200) reached and the optimization hasn't converged yet.\n",
      "  % self.max_iter, ConvergenceWarning)\n",
      "/home/mondeca/applications/anaconda3/lib/python3.7/site-packages/sklearn/neural_network/multilayer_perceptron.py:562: ConvergenceWarning: Stochastic Optimizer: Maximum iterations (200) reached and the optimization hasn't converged yet.\n",
      "  % self.max_iter, ConvergenceWarning)\n",
      "/home/mondeca/applications/anaconda3/lib/python3.7/site-packages/sklearn/neural_network/multilayer_perceptron.py:562: ConvergenceWarning: Stochastic Optimizer: Maximum iterations (200) reached and the optimization hasn't converged yet.\n",
      "  % self.max_iter, ConvergenceWarning)\n",
      "/home/mondeca/applications/anaconda3/lib/python3.7/site-packages/sklearn/neural_network/multilayer_perceptron.py:562: ConvergenceWarning: Stochastic Optimizer: Maximum iterations (200) reached and the optimization hasn't converged yet.\n",
      "  % self.max_iter, ConvergenceWarning)\n",
      "/home/mondeca/applications/anaconda3/lib/python3.7/site-packages/sklearn/neural_network/multilayer_perceptron.py:562: ConvergenceWarning: Stochastic Optimizer: Maximum iterations (200) reached and the optimization hasn't converged yet.\n",
      "  % self.max_iter, ConvergenceWarning)\n",
      "/home/mondeca/applications/anaconda3/lib/python3.7/site-packages/sklearn/neural_network/multilayer_perceptron.py:562: ConvergenceWarning: Stochastic Optimizer: Maximum iterations (200) reached and the optimization hasn't converged yet.\n",
      "  % self.max_iter, ConvergenceWarning)\n",
      "/home/mondeca/applications/anaconda3/lib/python3.7/site-packages/sklearn/neural_network/multilayer_perceptron.py:562: ConvergenceWarning: Stochastic Optimizer: Maximum iterations (200) reached and the optimization hasn't converged yet.\n",
      "  % self.max_iter, ConvergenceWarning)\n",
      "/home/mondeca/applications/anaconda3/lib/python3.7/site-packages/sklearn/neural_network/multilayer_perceptron.py:562: ConvergenceWarning: Stochastic Optimizer: Maximum iterations (200) reached and the optimization hasn't converged yet.\n",
      "  % self.max_iter, ConvergenceWarning)\n",
      "/home/mondeca/applications/anaconda3/lib/python3.7/site-packages/sklearn/neural_network/multilayer_perceptron.py:562: ConvergenceWarning: Stochastic Optimizer: Maximum iterations (200) reached and the optimization hasn't converged yet.\n",
      "  % self.max_iter, ConvergenceWarning)\n",
      "/home/mondeca/applications/anaconda3/lib/python3.7/site-packages/sklearn/neural_network/multilayer_perceptron.py:562: ConvergenceWarning: Stochastic Optimizer: Maximum iterations (200) reached and the optimization hasn't converged yet.\n",
      "  % self.max_iter, ConvergenceWarning)\n",
      "/home/mondeca/applications/anaconda3/lib/python3.7/site-packages/sklearn/neural_network/multilayer_perceptron.py:562: ConvergenceWarning: Stochastic Optimizer: Maximum iterations (200) reached and the optimization hasn't converged yet.\n",
      "  % self.max_iter, ConvergenceWarning)\n",
      "/home/mondeca/applications/anaconda3/lib/python3.7/site-packages/sklearn/neural_network/multilayer_perceptron.py:562: ConvergenceWarning: Stochastic Optimizer: Maximum iterations (200) reached and the optimization hasn't converged yet.\n",
      "  % self.max_iter, ConvergenceWarning)\n",
      "/home/mondeca/applications/anaconda3/lib/python3.7/site-packages/sklearn/neural_network/multilayer_perceptron.py:562: ConvergenceWarning: Stochastic Optimizer: Maximum iterations (200) reached and the optimization hasn't converged yet.\n",
      "  % self.max_iter, ConvergenceWarning)\n"
     ]
    },
    {
     "data": {
      "text/plain": [
       "GridSearchCV(cv=4, error_score='raise-deprecating',\n",
       "       estimator=Pipeline(memory=None,\n",
       "     steps=[('tfidf', TfidfVectorizer(analyzer='word', binary=False, decode_error='strict',\n",
       "        dtype=<class 'numpy.float64'>, encoding='utf-8', input='content',\n",
       "        lowercase=True, max_df=0.25, max_features=None, min_df=0.0025,\n",
       "        ngram_range=(1, 3), norm='l2', preprocessor=None, smooth_idf...True, solver='lbfgs', tol=0.0001,\n",
       "       validation_fraction=0.1, verbose=False, warm_start=False))]),\n",
       "       fit_params=None, iid='warn', n_jobs=None,\n",
       "       param_grid={'tfidf__ngram_range': [(1, 3), (1, 2)], 'svd__n_components': [60, 100, 150, 200, 300], 'mlp__solver': ['lbfgs', 'adam'], 'mlp__hidden_layer_sizes': [100, (200, 100), (100, 100)]},\n",
       "       pre_dispatch='2*n_jobs', refit=True, return_train_score='warn',\n",
       "       scoring='f1_micro', verbose=0)"
      ]
     },
     "execution_count": 123,
     "metadata": {},
     "output_type": "execute_result"
    }
   ],
   "source": [
    "gs = GridSearchCV(classifier, params, cv=4, scoring=\"f1_micro\")\n",
    "gs.fit(X,Y_mlb)"
   ]
  },
  {
   "cell_type": "code",
   "execution_count": 125,
   "metadata": {},
   "outputs": [
    {
     "data": {
      "text/plain": [
       "0.2808492343646503"
      ]
     },
     "execution_count": 125,
     "metadata": {},
     "output_type": "execute_result"
    }
   ],
   "source": [
    "gs.best_score_"
   ]
  }
 ],
 "metadata": {
  "kernelspec": {
   "display_name": "Python 3",
   "language": "python",
   "name": "python3"
  },
  "language_info": {
   "codemirror_mode": {
    "name": "ipython",
    "version": 3
   },
   "file_extension": ".py",
   "mimetype": "text/x-python",
   "name": "python",
   "nbconvert_exporter": "python",
   "pygments_lexer": "ipython3",
   "version": "3.7.1"
  }
 },
 "nbformat": 4,
 "nbformat_minor": 2
}
